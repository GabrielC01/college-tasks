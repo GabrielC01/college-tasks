{
 "cells": [
  {
   "cell_type": "markdown",
   "id": "6771664b",
   "metadata": {},
   "source": [
    "### Ufopa\n",
    "Disciplina de Programação <br>\n",
    "Professor Bruno Silva <br>\n",
    "Avaliação 2"
   ]
  },
  {
   "cell_type": "markdown",
   "id": "a5eb7522",
   "metadata": {},
   "source": [
    "Aluno: _"
   ]
  },
  {
   "cell_type": "markdown",
   "id": "7aeacce8",
   "metadata": {},
   "source": [
    "1 - Faça uma função que receba uma string e uma letra e:<br>\n",
    "a. imprima quantas vezes a letra aparece na string;<br>\n",
    "b. imprima todas as posições em que a letra aparece na string;<br>\n",
    "c. retorne a distância entre a primeira e a última aparição dessa letra na string."
   ]
  },
  {
   "cell_type": "code",
   "execution_count": 1,
   "id": "371db41f",
   "metadata": {},
   "outputs": [
    {
     "name": "stdout",
     "output_type": "stream",
     "text": [
      "2\n",
      "[0, 3]\n",
      "3\n"
     ]
    }
   ],
   "source": [
    "from re import finditer\n",
    "def scan_letter(string, letter):\n",
    "    print(string.count(letter))\n",
    "    indices = finditer(pattern=letter, string=string)\n",
    "    positions = [index.start() for index in indices]\n",
    "    print(positions)\n",
    "    return positions[len(positions)-1] - positions[0]\n",
    "\n",
    "print(scan_letter('test', 't'))"
   ]
  },
  {
   "cell_type": "markdown",
   "id": "3cfa7030",
   "metadata": {},
   "source": [
    "2 - Faça uma função RECURSIVA que recebe duas entradas: um input dado pelo usuário e um string que informa o tipo de dado (\"idade\", \"salário\" ou \"sexo\"), e verifica se os dados digitados foram válidos, usando os seguintes critérios:<br>\n",
    "a. Idade: entre 0 e 150;<br>\n",
    "b. Salário: maior que 0;<br>\n",
    "c. Sexo: M, F ou Outro."
   ]
  },
  {
   "cell_type": "code",
   "execution_count": 2,
   "id": "9e141d9f",
   "metadata": {},
   "outputs": [
    {
     "name": "stdout",
     "output_type": "stream",
     "text": [
      "Entre com a idade: 19\n",
      "Dados válidos\n"
     ]
    }
   ],
   "source": [
    "def validate_data(type):\n",
    "    if type == 'idade':\n",
    "        data = int(input('Entre com a idade: '))\n",
    "        return 'Dados válidos' if data > 0 and data < 150 else 'Dados inválidos'\n",
    "    if type == 'salário':\n",
    "        data = float(input('Entre com o salário: '))\n",
    "        return 'Dados válidos' if data > 0 else 'Dados inválidos'\n",
    "    if type == 'sexo':\n",
    "        data = input('Entre com o sexo: ')[0]\n",
    "        return 'Dados válidos' if data in ['M', 'F', 'Outro'] else 'Dados inválidos'\n",
    "\n",
    "print(validate_data('idade'))"
   ]
  },
  {
   "cell_type": "markdown",
   "id": "b7304dad",
   "metadata": {},
   "source": [
    "3 - faça uma função que criptografa uma mensagem substituindo cada letra pela letra oposta do dicionário:<br>\n",
    "'a' por 'z'<br>\n",
    "'b' por 'y'<br>\n",
    "'c' por 'x'"
   ]
  },
  {
   "cell_type": "code",
   "execution_count": 3,
   "id": "82cdf924",
   "metadata": {},
   "outputs": [
    {
     "name": "stdout",
     "output_type": "stream",
     "text": [
      "Entre com uma mensagem < abc\n",
      "zyx\n"
     ]
    }
   ],
   "source": [
    "def crypt_msg(msg):\n",
    "    alphabet = [chr(i) for i in range(97, 123)]\n",
    "    msg = msg.lower()\n",
    "    new_msg = ''\n",
    "\n",
    "    for char in msg:\n",
    "        if char in alphabet:\n",
    "            char_pos = alphabet.index(char)\n",
    "            char_oposite_pos = len(alphabet) - (char_pos + 1)\n",
    "            new_msg += alphabet[char_oposite_pos]\n",
    "\n",
    "    return new_msg\n",
    "msg = input('Entre com uma mensagem < ')\n",
    "print(crypt_msg(msg))"
   ]
  },
  {
   "cell_type": "markdown",
   "id": "2c6c41ad",
   "metadata": {},
   "source": [
    "4 - Um palíndromo é uma palavra que se soletra da mesma forma nos dois sentidos, como “osso” e “reviver”. Recursivamente, uma palavra é um palíndromo se a primeira e última letras forem iguais e o meio for um palíndromo.\n",
    "\n",
    "As funções seguintes recebem uma string como argumento e retornam as letras iniciais, finais e do meio das palavras:\n",
    "\n",
    "`def first(word):\n",
    "    return word[0]\n",
    "def last(word):\n",
    "    return word[-1]\n",
    "def middle(word):\n",
    "    return word[1:-1]`\n",
    "\n",
    "Escreva uma função chamada verifica_palindromo() que receba uma string como argumento e retorne True se for um palíndromo e False se não for. Lembre-se de que você pode usar a função integrada len para verificar o comprimento de uma string."
   ]
  },
  {
   "cell_type": "code",
   "execution_count": 5,
   "id": "f4ec5b32",
   "metadata": {},
   "outputs": [
    {
     "name": "stdout",
     "output_type": "stream",
     "text": [
      "True\n"
     ]
    }
   ],
   "source": [
    "def first(word):\n",
    "    return word[0]\n",
    "\n",
    "\n",
    "def last(word):\n",
    "    return word[-1]\n",
    "\n",
    "\n",
    "def middle(word):\n",
    "    return word[1:-1]\n",
    "\n",
    "def verifica_palindromo(word):\n",
    "    if len(word) == 1:\n",
    "        return True\n",
    "    if len(word) == 2:\n",
    "        return True if word[0] == word[1] else False\n",
    "\n",
    "    if first(word) == last(word):\n",
    "        return verifica_palindromo(middle(word))\n",
    "    else:\n",
    "        return False\n",
    "\n",
    "print(verifica_palindromo('aabbaa'))"
   ]
  },
  {
   "cell_type": "markdown",
   "id": "486703a2",
   "metadata": {},
   "source": [
    "5 - Faça um programa que fique pedindo uma resposta do usuário, entre 1, 2 e 3. Se o usuário digitar 1, o programa deve cadastrar um novo usuário e guardar esse cadastro num dicionário cuja chave será o CPF da pessoa. Quando o usuário digitar 2, o programa deve imprimir os usuários cadastrados; e se o usuário digitar 3, o programa deve fechar.\n",
    "Exemplo do dicionário:\n",
    "\n",
    "`‘987.654.321-00’: {‘nome’: Maria, ‘idade’: 20, ‘email’ : maria@mail.com}`\n",
    "\n",
    "Implemente também um sistema de busca para o programa. Isto é, se o usuário digitar 4, procure um determinado usuário pelo seu CPF.\n"
   ]
  },
  {
   "cell_type": "code",
   "execution_count": 1,
   "id": "a2b028f6",
   "metadata": {
    "scrolled": true
   },
   "outputs": [
    {
     "name": "stdout",
     "output_type": "stream",
     "text": [
      "> 1\n",
      "Informe CPF, nome, idade e endereço de e-mail, separados por espaço:\n",
      "\t12345678910 test 19 test@tmail.com\n",
      "> 2\n",
      "{'12345678910': ['test', '19', 'test@tmail.com']}\n",
      "> 3\n"
     ]
    }
   ],
   "source": [
    "people = {}\n",
    "while True:\n",
    "    choice = int(input('> '))\n",
    "    data = []\n",
    "    if choice == 1:\n",
    "        data = input('Informe CPF, nome, idade e endereço de e-mail, separados por espaço:\\n\\t').split(' ')\n",
    "        people.update({data[0]: data[1::]})\n",
    "    elif choice == 2:\n",
    "        print(people)\n",
    "    elif choice == 3:\n",
    "        break\n",
    "    elif choice == 4:\n",
    "        cpf = input('Informe o CPF:\\n\\t')\n",
    "        if cpf in people:\n",
    "            print(people[cpf])\n",
    "        else:\n",
    "            print('Usuário não encontrado.')\n",
    "    else:\n",
    "        print('Opção inválida')"
   ]
  },
  {
   "cell_type": "markdown",
   "id": "0fe2f4ea",
   "metadata": {},
   "source": [
    "6 - Crie uma função que receba os valores do nome, idade e e-mail de uma pessoa e guarde-os em um dicionário com as chaves ‘nome’, ‘idade’ e ‘email’, respectivamente. Sua função deve retornar esse dicionário."
   ]
  },
  {
   "cell_type": "code",
   "execution_count": 2,
   "id": "f2c6eaa8",
   "metadata": {},
   "outputs": [],
   "source": [
    "def reg_person(name, age, email):\n",
    "    person = {\n",
    "        'nome': name,\n",
    "        'idade': age,\n",
    "        'email': email\n",
    "    }\n",
    "    return person"
   ]
  },
  {
   "cell_type": "markdown",
   "id": "88e7789d",
   "metadata": {},
   "source": [
    "7 - A conta do cartão de crédito de uma pessoa pode ser modelada por um dicionário com os campos saldo, com o saldo devedor da conta, transações, com o número de transações que gerou esse saldo, e média, com a média de gastos por transação. Escreva uma função compra, que recebe como parâmetros o dicionário com a conta e o valor da compra e retorna um novo dicionário para aquela conta, com o saldo devedor, número de transações e média de gastos atualizados. \n"
   ]
  },
  {
   "cell_type": "code",
   "execution_count": 3,
   "id": "bc84f1cc",
   "metadata": {},
   "outputs": [
    {
     "name": "stdout",
     "output_type": "stream",
     "text": [
      "{'balance': 10000, 'transactions': 10, 'avg_spending': 1000.0}\n"
     ]
    }
   ],
   "source": [
    "def account_manager(account, bill):\n",
    "    new_balance = account['balance'] - bill\n",
    "    new_avg_spending = new_balance / (account['transactions'] + 1)\n",
    "    return {\n",
    "            'balance': new_balance,\n",
    "            'transactions': account['transactions'] + 1,\n",
    "            'avg_spending': new_avg_spending\n",
    "            }\n",
    "account = {\n",
    "        'balance': 11000,\n",
    "        'transactions': 9,\n",
    "        'avg_spending': 1000\n",
    "}\n",
    "\n",
    "print(account_manager(account, 1000))"
   ]
  }
 ],
 "metadata": {
  "kernelspec": {
   "display_name": "Python 3 (ipykernel)",
   "language": "python",
   "name": "python3"
  },
  "language_info": {
   "codemirror_mode": {
    "name": "ipython",
    "version": 3
   },
   "file_extension": ".py",
   "mimetype": "text/x-python",
   "name": "python",
   "nbconvert_exporter": "python",
   "pygments_lexer": "ipython3",
   "version": "3.10.2"
  }
 },
 "nbformat": 4,
 "nbformat_minor": 5
}
