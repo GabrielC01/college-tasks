{
 "cells": [
  {
   "cell_type": "code",
   "execution_count": 1,
   "id": "11232bb8",
   "metadata": {},
   "outputs": [],
   "source": [
    "# 1\n",
    "x = 0, 1, 2, 3, 4, 5, 6, 7, 8, 9"
   ]
  },
  {
   "cell_type": "code",
   "execution_count": 2,
   "id": "9d996e90",
   "metadata": {},
   "outputs": [
    {
     "name": "stdout",
     "output_type": "stream",
     "text": [
      "(1, 2.0, 1.0)\n"
     ]
    }
   ],
   "source": [
    "# 2\n",
    "from statistics import stdev\n",
    "def list_info(list):\n",
    "    return min(list), sum(list)/len(list), stdev(list)\n",
    "\n",
    "print(list_info([1, 2, 3]))"
   ]
  },
  {
   "cell_type": "code",
   "execution_count": 4,
   "id": "3f37561f",
   "metadata": {},
   "outputs": [
    {
     "name": "stdout",
     "output_type": "stream",
     "text": [
      "(False, [1, 'a', 3, 2])\n",
      "(True, [1, 4, 3, 2])\n"
     ]
    }
   ],
   "source": [
    "# 3\n",
    "def is_numeric(list):\n",
    "    all_numeric = True\n",
    "    refined_list = []\n",
    "\n",
    "    for element in list:\n",
    "        try:\n",
    "            refined_list.append(int(element))\n",
    "        except ValueError:\n",
    "            refined_list.append(element)\n",
    "            all_numeric = False\n",
    "\n",
    "    return all_numeric, refined_list\n",
    "\n",
    "print(is_numeric(['1', 'a', '3', '2']))\n",
    "print(is_numeric(['1', '4', '3', '2']))"
   ]
  },
  {
   "cell_type": "code",
   "execution_count": 1,
   "id": "1dfe9888",
   "metadata": {},
   "outputs": [
    {
     "name": "stdout",
     "output_type": "stream",
     "text": [
      "(16, (-1.0, 4.0), [1.0, -3.0])\n"
     ]
    }
   ],
   "source": [
    "# 4\n",
    "from math import sqrt\n",
    "def quadratic(a, b, c):\n",
    "    if a == 0:\n",
    "        return 'Coeficiente inválido (a = 0)'\n",
    "\n",
    "    d = b**2 - 4*a*c \n",
    "    m_point = -b/(2*a), d / (4*a)\n",
    "    if d < 0:\n",
    "        return (d, m_point, [])\n",
    "    else:\n",
    "        roots = [(-b + sqrt(d)) / 2*a, (-b - sqrt(d)) / 2*a]\n",
    "        return (d, m_point, roots) if d > 0 else (d, m_point, [])\n",
    "\n",
    "print(quadratic(1, 2, -3))"
   ]
  },
  {
   "cell_type": "code",
   "execution_count": null,
   "id": "87b83b53",
   "metadata": {},
   "outputs": [],
   "source": [
    "# 5\n",
    "months = {\n",
    "    'Janeiro': 31,\n",
    "    'Fevereiro': 28,\n",
    "    'Março': 31,\n",
    "    'Abril': 30,\n",
    "    'Maio': 31,\n",
    "    'Junho': 30,\n",
    "    'Julho': 31,\n",
    "    'Agosto': 31,\n",
    "    'Setembro': 30,\n",
    "    'Outubro': 31,\n",
    "    'Novembro': 30,\n",
    "    'Dezembro': 31\n",
    "}"
   ]
  },
  {
   "cell_type": "code",
   "execution_count": null,
   "id": "79026f6d",
   "metadata": {},
   "outputs": [],
   "source": [
    "# 6\n",
    "months = {\n",
    "    'Janeiro': 31,\n",
    "    'Fevereiro': 28,\n",
    "    'Março': 31,\n",
    "    'Abril': 30,\n",
    "    'Maio': 31,\n",
    "    'Junho': 30,\n",
    "    'Julho': 31,\n",
    "    'Agosto': 31,\n",
    "    'Setembro': 30,\n",
    "    'Outubro': 31,\n",
    "    'Novembro': 30,\n",
    "    'Dezembro': 31\n",
    "}\n",
    "for month in months.keys():\n",
    "    print((month) + ' - ' + str(months.get(month)))"
   ]
  },
  {
   "cell_type": "code",
   "execution_count": null,
   "id": "2ef62954",
   "metadata": {},
   "outputs": [],
   "source": [
    "# 7\n",
    "fruits = {\n",
    "    'Banana': 3.0,\n",
    "    'Cebola': 4.0,\n",
    "    'Maçã': 5.7,\n",
    "    'Abacaxi': 8.0\n",
    "}"
   ]
  },
  {
   "cell_type": "code",
   "execution_count": null,
   "id": "4b229939",
   "metadata": {},
   "outputs": [],
   "source": [
    "# 8\n",
    "fruits = {\n",
    "    'Banana': 3.0,\n",
    "    'Cebola': 4.0,\n",
    "    'Maçã': 5.7,\n",
    "    'Abacaxi': 8.0\n",
    "}\n",
    "\n",
    "fruits['Maçã'] = 8.6"
   ]
  },
  {
   "cell_type": "code",
   "execution_count": null,
   "id": "d75e34a7",
   "metadata": {},
   "outputs": [],
   "source": [
    "# 9\n",
    "def person(name, age, email):\n",
    "    return {\n",
    "        'nome': name,\n",
    "        'idade': age,\n",
    "        'email': email\n",
    "    }"
   ]
  },
  {
   "cell_type": "code",
   "execution_count": 3,
   "id": "987fed34",
   "metadata": {},
   "outputs": [
    {
     "name": "stdout",
     "output_type": "stream",
     "text": [
      "3\n"
     ]
    }
   ],
   "source": [
    "# 10\n",
    "table = {\n",
    "    'Maria': { 'Coluna A': 1,   'Coluna B':     5 },\n",
    "    'Pedro': { 'Coluna A': 0.5, 'Coluna B':     3 },\n",
    "    'João':  { 'Coluna A': 3.2, 'Coluna B':     1 }\n",
    "}\n",
    "print(table['Pedro']['Coluna B'])"
   ]
  },
  {
   "cell_type": "code",
   "execution_count": 2,
   "id": "c718b7e5",
   "metadata": {},
   "outputs": [
    {
     "name": "stdout",
     "output_type": "stream",
     "text": [
      "{1: 1, 2: 2, 3: 3, 4: 2, 7: 2}\n"
     ]
    }
   ],
   "source": [
    "# 11\n",
    "numbers = [1, 2, 2, 3, 4, 4, 3, 3, 7, 7]\n",
    "numbers_dict = {}\n",
    "for number in numbers:\n",
    "    numbers_dict.update({number: numbers.count(number)})\n",
    "print(numbers_dict)"
   ]
  },
  {
   "cell_type": "code",
   "execution_count": null,
   "id": "c1016deb",
   "metadata": {},
   "outputs": [],
   "source": [
    "# 12\n",
    "people = {}\n",
    "while True:\n",
    "    choice = int(input('> '))\n",
    "    data = []\n",
    "    if choice == 1:\n",
    "        data = input('Informe CPF, nome, idade e endereço de e-mail, separados por espaço:\\n\\t').split(' ')\n",
    "        people.update({data[0]: data[1::]})\n",
    "    elif choice == 2:\n",
    "        print(people)\n",
    "    elif choice == 3:\n",
    "        break\n",
    "    else:\n",
    "        print('Opção inválida')"
   ]
  },
  {
   "cell_type": "code",
   "execution_count": null,
   "id": "c26f0fb2",
   "metadata": {},
   "outputs": [],
   "source": [
    "# 13\n",
    "people = {}\n",
    "while True:\n",
    "    choice = int(input('> '))\n",
    "    data = []\n",
    "    if choice == 1:\n",
    "        data = input('Informe CPF, nome, idade e endereço de e-mail, separados por espaço:\\n\\t').split(' ')\n",
    "        people.update({data[0]: data[1::]})\n",
    "    elif choice == 2:\n",
    "        print(people)\n",
    "    elif choice == 3:\n",
    "        break\n",
    "    elif choice == 4:\n",
    "        cpf = input('Informe o CPF:\\n\\t')\n",
    "        if cpf in people:\n",
    "            print(people[cpf])\n",
    "        else:\n",
    "            print('Usuário não encontrado.')\n",
    "    else:\n",
    "        print('Opção inválida')"
   ]
  }
 ],
 "metadata": {
  "kernelspec": {
   "display_name": "Python 3 (ipykernel)",
   "language": "python",
   "name": "python3"
  },
  "language_info": {
   "codemirror_mode": {
    "name": "ipython",
    "version": 3
   },
   "file_extension": ".py",
   "mimetype": "text/x-python",
   "name": "python",
   "nbconvert_exporter": "python",
   "pygments_lexer": "ipython3",
   "version": "3.10.2"
  }
 },
 "nbformat": 4,
 "nbformat_minor": 5
}
