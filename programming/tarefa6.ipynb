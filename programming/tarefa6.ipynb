{
 "cells": [
  {
   "cell_type": "code",
   "execution_count": 1,
   "id": "c04e5d7a",
   "metadata": {},
   "outputs": [
    {
     "name": "stdout",
     "output_type": "stream",
     "text": [
      "Entre com um número: 2\n",
      "4\n"
     ]
    }
   ],
   "source": [
    "#1\n",
    "def double():\n",
    "    n = int(input('Entre com um número: '))\n",
    "    print(n * 2)\n",
    "    \n",
    "    \n",
    "double()"
   ]
  },
  {
   "cell_type": "code",
   "execution_count": 2,
   "id": "27f823ec",
   "metadata": {},
   "outputs": [
    {
     "name": "stdout",
     "output_type": "stream",
     "text": [
      "Entre com o raio: 2\n",
      "12.57\n"
     ]
    }
   ],
   "source": [
    "#2\n",
    "from math import pi\n",
    "def circumference(radius):\n",
    "    return 2 * pi * radius\n",
    "\n",
    "\n",
    "print('%.2f'%circumference(int(input('Entre com o raio: '))))"
   ]
  },
  {
   "cell_type": "code",
   "execution_count": 3,
   "id": "b4c4bf7c",
   "metadata": {
    "scrolled": true
   },
   "outputs": [
    {
     "name": "stdout",
     "output_type": "stream",
     "text": [
      "N1: 2\n",
      "N2: 2\n",
      "(Operações feitas na ordem de entrada)\n",
      "Adição \t\t-> 4\n",
      "Subtração \t-> 0\n",
      "Multiplicação \t-> 4\n",
      "Divisão \t-> 1\n"
     ]
    }
   ],
   "source": [
    "#3\n",
    "def add(n1, n2):\n",
    "    return n1 + n2\n",
    "\n",
    "\n",
    "def subtract(n1, n2):\n",
    "    return n1 - n2\n",
    "\n",
    "\n",
    "def multiply(n1, n2):\n",
    "    return n1 * n2\n",
    "\n",
    "\n",
    "def divide(n1, n2):\n",
    "    return n1 / n2\n",
    "\n",
    "\n",
    "n1 = int(input('N1: '))\n",
    "n2 = int(input('N2: '))\n",
    "\n",
    "print('(Operações feitas na ordem de entrada)')\n",
    "print('Adição \\t\\t-> %d' % add(n1, n2))\n",
    "print('Subtração \\t-> %d' % subtract(n1, n2))\n",
    "print('Multiplicação \\t-> %d' % multiply(n1, n2))\n",
    "print('Divisão \\t-> %d' % divide(n1, n2))"
   ]
  },
  {
   "cell_type": "code",
   "execution_count": 4,
   "id": "6032bc80",
   "metadata": {},
   "outputs": [
    {
     "name": "stdout",
     "output_type": "stream",
     "text": [
      "Qual é o seu nome? Gabriel\n",
      "olá, Gabriel\n"
     ]
    }
   ],
   "source": [
    "#4\n",
    "def greet(name):\n",
    "    print('olá, ' + name)\n",
    "\n",
    "    \n",
    "greet(input('Qual é o seu nome? '))"
   ]
  },
  {
   "cell_type": "code",
   "execution_count": 6,
   "id": "3e639df2",
   "metadata": {},
   "outputs": [
    {
     "name": "stdout",
     "output_type": "stream",
     "text": [
      "Qual é o seu nome? Gabriel\n",
      "Que horas são(apenas horas)? 18\n",
      "Boa noite, Gabriel\n"
     ]
    }
   ],
   "source": [
    "#5\n",
    "def greet(name, time):\n",
    "    time = int(time)\n",
    "    print('Bom dia, ' + name) if time < 12 else 0\n",
    "    print('Boa tarfe, ' + name) if time >= 12 and time < 18 else 0\n",
    "    print('Boa noite, ' + name) if time >= 18 else 0\n",
    "   \n",
    "\n",
    "greet(input('Qual é o seu nome? '), input('Que horas são(apenas horas)? '))"
   ]
  },
  {
   "cell_type": "code",
   "execution_count": 7,
   "id": "10d177dd",
   "metadata": {},
   "outputs": [
    {
     "name": "stdout",
     "output_type": "stream",
     "text": [
      "Entre com um número inteiro: 4\n",
      "True\n"
     ]
    }
   ],
   "source": [
    "#6\n",
    "def is_even(n):\n",
    "    return True if n % 2 == 0 else False\n",
    "\n",
    "\n",
    "print(is_even(int(input('Entre com um número inteiro: '))))"
   ]
  },
  {
   "cell_type": "code",
   "execution_count": 8,
   "id": "8061cae6",
   "metadata": {},
   "outputs": [
    {
     "name": "stdout",
     "output_type": "stream",
     "text": [
      "97\n"
     ]
    }
   ],
   "source": [
    "#7\n",
    "from random import randint\n",
    "def max_random():\n",
    "    pool = [randint(0, 100) for i in range(10)]\n",
    "    return max(pool)\n",
    "\n",
    "\n",
    "print(max_random())"
   ]
  },
  {
   "cell_type": "code",
   "execution_count": 5,
   "id": "904cf1b0",
   "metadata": {
    "scrolled": true
   },
   "outputs": [
    {
     "name": "stdout",
     "output_type": "stream",
     "text": [
      "Entre com um número inteiro: 10\n",
      "28.3\n"
     ]
    }
   ],
   "source": [
    "#8\n",
    "from random import randint\n",
    "def random_avg(n):\n",
    "    pool = sum([randint(0, 100) for i in range(n)]) / n\n",
    "    return pool\n",
    "\n",
    "\n",
    "print(random_avg(int(input(\"Entre com um número inteiro: \"))))"
   ]
  },
  {
   "cell_type": "code",
   "execution_count": 3,
   "id": "353cbb74",
   "metadata": {},
   "outputs": [
    {
     "name": "stdout",
     "output_type": "stream",
     "text": [
      "Obs: Separe os elementos por espaço.\n",
      "Entre com palavras: luz água palavra\n",
      "['LUZ', 'ÁGUA', 'PALAVRA']\n"
     ]
    }
   ],
   "source": [
    "#9\n",
    "def to_upper(strings):\n",
    "    return [strings[i].upper() for i in range(len(strings))]\n",
    "\n",
    "\n",
    "print('Obs: Separe os elementos por espaço.')\n",
    "print(to_upper(input('Entre com palavras: ').split()))"
   ]
  },
  {
   "cell_type": "code",
   "execution_count": 6,
   "id": "597fb07f",
   "metadata": {},
   "outputs": [
    {
     "name": "stdout",
     "output_type": "stream",
     "text": [
      "Obs: Separe os elementos por espaço.\n",
      "Entre com a primeira lista: 1 4 3\n",
      "Entre com a primeira lista: 3 5 1\n",
      "Soma das listas -> [4, 9, 4]\n"
     ]
    }
   ],
   "source": [
    "#10\n",
    "def sum_lists(list1, list2):\n",
    "    return [sum(list(x)) for x in zip(list1, list2)]\n",
    "\n",
    "\n",
    "print('Obs: Separe os elementos por espaço.')\n",
    "list1 = input('Entre com a primeira lista: ').split()\n",
    "list1 = [int(i) for i in list1]\n",
    "list2 = input('Entre com a primeira lista: ').split()\n",
    "list2 = [int(i) for i in list2]\n",
    "print(f'Soma das listas -> {sum_lists(list1, list2)}')"
   ]
  },
  {
   "cell_type": "code",
   "execution_count": 7,
   "id": "957c80ca",
   "metadata": {},
   "outputs": [
    {
     "name": "stdout",
     "output_type": "stream",
     "text": [
      "Obs: Separe os elementos por espaço.\n",
      "Entre com a primeira lista: 1 4 3\n",
      "Entre com a primeira lista: 3 5 1\n",
      "Produto das listas -> [3, 20, 3]\n"
     ]
    }
   ],
   "source": [
    "#11\n",
    "def sum_lists(list1, list2):\n",
    "    return [list(x)[0] * list(x)[1] for x in zip(list1, list2)]\n",
    "\n",
    "\n",
    "print('Obs: Separe os elementos por espaço.')\n",
    "list1 = input('Entre com a primeira lista: ').split()\n",
    "list1 = [int(i) for i in list1]\n",
    "list2 = input('Entre com a primeira lista: ').split()\n",
    "list2 = [int(i) for i in list2]\n",
    "print(f'Produto das listas -> {sum_lists(list1, list2)}')"
   ]
  },
  {
   "cell_type": "code",
   "execution_count": 9,
   "id": "4676c0b9",
   "metadata": {},
   "outputs": [
    {
     "name": "stdout",
     "output_type": "stream",
     "text": [
      "Obs: Separe os elementos por espaço.\n",
      "Entre com um número: 5\n",
      "Entre com um vetor: 3 5 1\n",
      "[15, 25, 5]\n"
     ]
    }
   ],
   "source": [
    "#12\n",
    "def dot_product(n, vector):\n",
    "    return [n * vector[i] for i in range(len(vector))]\n",
    "\n",
    "\n",
    "print('Obs: Separe os elementos por espaço.')\n",
    "scale = int(input('Entre com um número: '))\n",
    "vector = input('Entre com um vetor: ').split()\n",
    "vector = [int(i) for i in vector]\n",
    "print(dot_product(scale, vector))"
   ]
  },
  {
   "cell_type": "code",
   "execution_count": 10,
   "id": "9f00cd63",
   "metadata": {},
   "outputs": [
    {
     "name": "stdout",
     "output_type": "stream",
     "text": [
      "Obs: Separe os elementos por espaço.\n",
      "Entre com uma lista de números: 2 4 6\n",
      "Soma dos itens da lista -> 12\n"
     ]
    }
   ],
   "source": [
    "#13\n",
    "def sum_list(num_list):\n",
    "    acc = 0\n",
    "    for i in num_list:\n",
    "        acc += i\n",
    "    return acc\n",
    "\n",
    "\n",
    "print('Obs: Separe os elementos por espaço.')\n",
    "num_list = input('Entre com uma lista de números: ').split()\n",
    "num_list = [int(i) for i in num_list]\n",
    "print(f'Soma dos itens da lista -> {sum_list(num_list)}')"
   ]
  },
  {
   "cell_type": "code",
   "execution_count": 11,
   "id": "8ebddcdb",
   "metadata": {},
   "outputs": [
    {
     "name": "stdout",
     "output_type": "stream",
     "text": [
      "Obs: Separe os elementos por espaço.\n",
      "Entre com uma lista de números: 1 2 3\n",
      "2.0\n"
     ]
    }
   ],
   "source": [
    "#14\n",
    "def list_avg(num_list):\n",
    "    return sum(num_list) / len(num_list)\n",
    "\n",
    "\n",
    "print('Obs: Separe os elementos por espaço.')\n",
    "num_list = input('Entre com uma lista de números: ').split()\n",
    "num_list = [int(i) for i in num_list]\n",
    "print(list_avg(num_list))"
   ]
  },
  {
   "cell_type": "code",
   "execution_count": 12,
   "id": "7a9b87ea",
   "metadata": {
    "scrolled": false
   },
   "outputs": [
    {
     "name": "stdout",
     "output_type": "stream",
     "text": [
      "Entre com um número: 5\n",
      "120\n"
     ]
    }
   ],
   "source": [
    "#Desafio 1\n",
    "def fact(n):\n",
    "    return 1 if n == 1 else fact(n - 1) * n\n",
    "\n",
    "\n",
    "print(f'Fatorial -> {fact(int(input(\"Entre com um número: \")))}')"
   ]
  },
  {
   "cell_type": "code",
   "execution_count": 1,
   "id": "58c8c0ac",
   "metadata": {},
   "outputs": [
    {
     "name": "stdout",
     "output_type": "stream",
     "text": [
      "Entre com um número inteiro: 7\n",
      "7º elemento da sequência fibonacci: 13\n"
     ]
    }
   ],
   "source": [
    "#Desafio 3\n",
    "def fibo(n):\n",
    "    prev_num = 1\n",
    "    curr_num = 1\n",
    "    for i in range(n-2):\n",
    "        next_num = prev_num + curr_num\n",
    "        prev_num = curr_num\n",
    "        curr_num = next_num\n",
    "    return next_num\n",
    "\n",
    "\n",
    "n = int(input('Entre com um número inteiro: '))\n",
    "print(f'{n}º elemento da sequência fibonacci: {fibo(n)}')"
   ]
  },
  {
   "cell_type": "code",
   "execution_count": 1,
   "id": "038346d8",
   "metadata": {},
   "outputs": [
    {
     "name": "stdout",
     "output_type": "stream",
     "text": [
      "Entre com um número: 5\n",
      "Fatorial -> 120\n"
     ]
    }
   ],
   "source": [
    "#Super desafio\n",
    "def fact(n):\n",
    "    return 1 if n == 1 else fact(n - 1) * n\n",
    "\n",
    "\n",
    "print(f'Fatorial -> {fact(int(input(\"Entre com um número: \")))}')"
   ]
  },
  {
   "cell_type": "code",
   "execution_count": 3,
   "id": "32a3f278",
   "metadata": {},
   "outputs": [
    {
     "name": "stdout",
     "output_type": "stream",
     "text": [
      "Entre com a informação: 19\n",
      "Que tipo de informação é essa? [idade, salário, sexo]: idade\n",
      "Informação válida.\n"
     ]
    }
   ],
   "source": [
    "#Desafio 2\n",
    "def validate_data(data, meaning):\n",
    "    meaning = meaning.lower()\n",
    "    if meaning == 'idade':\n",
    "        data = int(data)\n",
    "        return False if data <= 0 and data >= 150 else True\n",
    "\n",
    "    elif meaning == 'salario' or meaning == 'salário':\n",
    "        data = float(data)\n",
    "        return False if data <= 0 else True\n",
    "\n",
    "    elif meaning == 'sexo':\n",
    "        return False if data not in ['M', 'F', 'Outro'] else True\n",
    "\n",
    "\n",
    "data = input('Entre com a informação: ')\n",
    "meaning = input('Que tipo de informação é essa? [idade, salário, sexo]: ')\n",
    "if validate_data(data, meaning):\n",
    "    print('Informação válida.')\n",
    "else:\n",
    "    print('Informação inválida.')"
   ]
  },
  {
   "cell_type": "code",
   "execution_count": 1,
   "id": "42adf7ad",
   "metadata": {},
   "outputs": [
    {
     "name": "stdout",
     "output_type": "stream",
     "text": [
      "Entre com a informação: M\n",
      "Que tipo de informação é essa? [idade, salário, sexo]sexo\n",
      "Informação válida.\n"
     ]
    }
   ],
   "source": [
    "#Super desafio\n",
    "def fibo(n):\n",
    "    if n <= 1:\n",
    "        return n\n",
    "    return fibo(n - 1) + fibo(n - 2)\n",
    "\n",
    "\n",
    "n = int(input(\"Entre com um número inteiro: \"))\n",
    "print(fibo(n))"
   ]
  },
  {
   "cell_type": "code",
   "execution_count": 4,
   "id": "0d2a40e9",
   "metadata": {},
   "outputs": [
    {
     "name": "stdout",
     "output_type": "stream",
     "text": [
      "\u001b[31m\u001b[1m\u001b[7m\n",
      "                              BlackJack/Vinte-E-Um                              \u001b[0m\n",
      "\u001b[34m\u001b[7m   's'   --> comprar carta;                                                     \n",
      "   'n'   --> não mais comprar cartas;                                           \n",
      " (Outro) --> desistir.                                                          \u001b[0m\n",
      "Quantos jogadores hão de jogar? 1\n",
      "Nome do 1º jogador: Teste\n",
      "\u001b[34m\t1º: TESTE; 8; 8 pontos.\n",
      "\u001b[32m\u001b[7m                                 Vez de TESTE.                                  \u001b[0m\n",
      "Comprar carta? s\n",
      "\tSuas cartas -> [8, 6]\n",
      "\tSeus pontos -> 14\n",
      "Comprar carta? s\n",
      "\tSuas cartas -> [8, 6, 9]\n",
      "\tSeus pontos -> 23\n",
      "\u001b[48;5;220m\n",
      "                                 TESTE venceu!                                  \n",
      "                                   [8, 6, 9]                                    \n",
      "                                   23 pontos                                    \n",
      "\u001b[0m\n"
     ]
    }
   ],
   "source": [
    "#Super desafio\n",
    "from random import randint\n",
    "from shutil import get_terminal_size\n",
    "\n",
    "\n",
    "# Output settings\n",
    "WIDTH = get_terminal_size()[0]\n",
    "BOLD = '\\033[1m'\n",
    "GREEN = '\\033[32m'\n",
    "BLUE = '\\033[34m'\n",
    "YELLOW = '\\033[33m'\n",
    "RED = '\\033[31m'\n",
    "RESET = '\\033[0m'\n",
    "ITALIC = '\\033[3m'\n",
    "REVERSE = '\\033[7m'\n",
    "\n",
    "\n",
    "def show_game_info():\n",
    "    print(RED + BOLD + '\\033[7m')\n",
    "    print(\"BlackJack/Vinte-E-Um\".center(WIDTH) + RESET)\n",
    "    print(BLUE + '\\033[7m', end='')\n",
    "    print(\"   's'   --> comprar carta;\".ljust(WIDTH))\n",
    "    print(\"   'n'   --> não mais comprar cartas;\".ljust(WIDTH))\n",
    "    print(\" (Outro) --> desistir.\".ljust(WIDTH) + RESET)\n",
    "\n",
    "\n",
    "def create_deck():\n",
    "    return [\"Ás\", 2, 3, 4, 5, 6, 7, 8, 9, \"Valete\", \"Dama\", \"Rei\"]\n",
    "\n",
    "\n",
    "def sort_card(deck):\n",
    "    return deck[randint(0, len(deck)-1)]\n",
    "\n",
    "\n",
    "def evaluate_card(card):\n",
    "    if card == \"Ás\":\n",
    "        return 1\n",
    "    elif card in [\"Valete\", \"Dama\", \"Rei\"]:\n",
    "        return 10\n",
    "    else:\n",
    "        return card\n",
    "\n",
    "\n",
    "def play(player, deck):\n",
    "    print(GREEN, end='')\n",
    "    print(REVERSE + f\"Vez de {player[0]}.\".center(WIDTH) + RESET)\n",
    "    while player[2] < 21:\n",
    "        # Ask player's decicion\n",
    "        choice = input(YELLOW + \"Comprar carta? \" + RESET)\n",
    "\n",
    "        # Process choice\n",
    "        if choice == 's':\n",
    "            card = sort_card(deck)\n",
    "            card_value = evaluate_card(card)\n",
    "            player[1].append(card)\n",
    "            player[2] += card_value\n",
    "        elif choice == 'n':\n",
    "            return player\n",
    "        else:\n",
    "            player.append(-1)\n",
    "            return player\n",
    "\n",
    "        # Show player's changes\n",
    "        print(f\"\\tSuas cartas -> {player[1]}\")\n",
    "        print(f\"\\tSeus pontos -> {player[2]}\")\n",
    "    return player\n",
    "\n",
    "\n",
    "def proclaim_winner(players):\n",
    "    players = [players[i] for i in range(len(players)) if -1 not in players]\n",
    "    winner_index = 0\n",
    "    closest_score = 0\n",
    "\n",
    "    # Search for the score closest to 21\n",
    "    for player in players:\n",
    "        diff = abs(player[2] - 21)\n",
    "        if players.index(player) == 0:\n",
    "            closest_score = diff\n",
    "\n",
    "        if diff < closest_score:\n",
    "            print(diff)\n",
    "            closest_score = player[2]\n",
    "            winner_index = players.index(player)\n",
    "\n",
    "    # Search for draws\n",
    "    draws = [player for player in players if player[2] == closest_score]\n",
    "    if len(draws) > 1:\n",
    "        print(\"\\033[48;5;220m\")\n",
    "        print(\"Empatados:\")\n",
    "        [print('\\t' + player) for player in draws]\n",
    "        print(RESET)\n",
    "    else:\n",
    "        del draws\n",
    "        print(\"\\033[48;5;220m\")\n",
    "        print(f\"{players[winner_index][0]} venceu!\".center(WIDTH))\n",
    "        print(f\"{players[winner_index][1]}\".center(WIDTH))\n",
    "        print(f\"{players[winner_index][2]} pontos\".center(WIDTH))\n",
    "        print(RESET)\n",
    "\n",
    "\n",
    "def main():\n",
    "    # Show game title and its instructions\n",
    "    show_game_info()\n",
    "    # Define players\n",
    "    players_amount = int(input(\"Quantos jogadores hão de jogar? \"))\n",
    "    players_active = players_amount\n",
    "    players = []\n",
    "    deck = create_deck()\n",
    "    for i in range(players_amount):\n",
    "        name = input(f\"Nome do {i+1}º jogador: \").upper()\n",
    "        card = sort_card(deck)\n",
    "        score = evaluate_card(card)\n",
    "        players.append([name, [card], score])\n",
    "        print(BLUE + f\"\\t{i+1}º: {name}; {card}; {score} pontos.\")\n",
    "\n",
    "    # Start\n",
    "    players_remaining = []\n",
    "    for i in range(players_active):\n",
    "        result = play(players[i], deck)\n",
    "        if -1 not in result:\n",
    "            players_remaining.append(result)\n",
    "\n",
    "    # Declare final results\n",
    "    proclaim_winner(players_remaining)\n",
    "\n",
    "\n",
    "main()"
   ]
  },
  {
   "cell_type": "code",
   "execution_count": 2,
   "id": "d560d746",
   "metadata": {
    "scrolled": true
   },
   "outputs": [
    {
     "name": "stdout",
     "output_type": "stream",
     "text": [
      "Opções:\n",
      "        0 - Finalizar programa;\n",
      "        1 - Cadastrar novo usuário;\n",
      "        2 - Procurar usuário por CPF;\n",
      "        3 - Exibir todos os clientes.\n",
      "    \n",
      "> 1\n",
      "Entre com o nome da pessoa: Teste\n",
      "Entre com seu CPF: 485.327.085-01\n",
      "Entre com e-mail da pessoa? teste@testemail.com\n",
      "> 2\n",
      "Entre com o CPF: 485.327.085-01\n",
      "\u001b[32m\t['Teste', '48532708501', 'teste@testemail.com']\n",
      "> 3\n",
      "\u001b[34mPessoas cadastradas:\u001b[0m\n",
      "\u001b[32m\t['Teste', '48532708501', 'teste@testemail.com']\u001b[0m\n",
      "\u001b[34mTotal: 1\u001b[0m\n",
      "> 0\n"
     ]
    }
   ],
   "source": [
    "#Super desafio\n",
    "from re import sub\n",
    "\n",
    "\n",
    "clients = []\n",
    "\n",
    "\n",
    "def set_person():\n",
    "    name = input(\"Entre com o nome da pessoa: \")\n",
    "    cpf = input(\"Entre com seu CPF: \")\n",
    "    cpf = sub(r'\\D', '', cpf)\n",
    "    email = input(\"Entre com e-mail da pessoa? \")\n",
    "    return [name, cpf, email]\n",
    "\n",
    "\n",
    "def search_by_cpf(people, cpf):\n",
    "    for person in people:\n",
    "        if cpf in person:\n",
    "            return person\n",
    "    return \"não encontrado\"\n",
    "\n",
    "\n",
    "def main():\n",
    "    options = \"\"\"Opções:\n",
    "        0 - Finalizar programa;\n",
    "        1 - Cadastrar novo usuário;\n",
    "        2 - Procurar usuário por CPF;\n",
    "        3 - Exibir todos os clientes.\n",
    "    \"\"\"\n",
    "    print(options)\n",
    "    choice = int(input(\"> \"))\n",
    "    people = []\n",
    "\n",
    "    while choice != 0:\n",
    "        if choice == 1:\n",
    "            person = set_person()\n",
    "            people.append(person)\n",
    "        elif choice == 2:\n",
    "            if people == []:\n",
    "                print(\"Não há pessoas cadastradas.\")\n",
    "                continue\n",
    "            cpf = sub(r'\\D', '', input(\"Entre com o CPF: \"))\n",
    "            print(\"\\033[32m\\t\" + str(search_by_cpf(people, cpf)))\n",
    "        elif choice == 3:\n",
    "            if people == []:\n",
    "                print(\"Rol vazio.\")\n",
    "            else:\n",
    "                print(\"\\033[34mPessoas cadastradas:\\033[0m\")\n",
    "                [print(f\"\\033[32m\\t{person}\\033[0m\") for person in people]\n",
    "                print(f\"\\033[34mTotal: {len(people)}\\033[0m\")\n",
    "        choice = int(input(\"> \"))\n",
    "\n",
    "\n",
    "main()"
   ]
  }
 ],
 "metadata": {
  "kernelspec": {
   "display_name": "Python 3 (ipykernel)",
   "language": "python",
   "name": "python3"
  },
  "language_info": {
   "codemirror_mode": {
    "name": "ipython",
    "version": 3
   },
   "file_extension": ".py",
   "mimetype": "text/x-python",
   "name": "python",
   "nbconvert_exporter": "python",
   "pygments_lexer": "ipython3",
   "version": "3.9.9"
  }
 },
 "nbformat": 4,
 "nbformat_minor": 5
}
