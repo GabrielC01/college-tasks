{
 "cells": [
  {
   "cell_type": "code",
   "execution_count": 2,
   "id": "2304e938",
   "metadata": {},
   "outputs": [
    {
     "name": "stdout",
     "output_type": "stream",
     "text": [
      "1 2 3 "
     ]
    }
   ],
   "source": [
    "#1\n",
    "simple_list = [1, 2, 3]\n",
    "for i in simple_list:\n",
    "    print(i, end=' ')"
   ]
  },
  {
   "cell_type": "code",
   "execution_count": 3,
   "id": "78b525a6",
   "metadata": {},
   "outputs": [
    {
     "name": "stdout",
     "output_type": "stream",
     "text": [
      "1 2 3 "
     ]
    }
   ],
   "source": [
    "#2\n",
    "simple_list = [1, 2, 3]\n",
    "i = 0\n",
    "while i < 3:\n",
    "    print(simple_list[i], end=' ')\n",
    "    i += 1"
   ]
  },
  {
   "cell_type": "code",
   "execution_count": 4,
   "id": "e1fcfb8b",
   "metadata": {},
   "outputs": [
    {
     "name": "stdout",
     "output_type": "stream",
     "text": [
      "Entre com um número inteiro: 10\n",
      "[0, 1, 2, 3, 4, 5, 6, 7, 8, 9]\n"
     ]
    }
   ],
   "source": [
    "#3\n",
    "num = int(input('Entre com um número inteiro: '))\n",
    "num_list = [i for i in range(num)]\n",
    "print(num_list)"
   ]
  },
  {
   "cell_type": "code",
   "execution_count": 5,
   "id": "30d5c73a",
   "metadata": {},
   "outputs": [
    {
     "name": "stdout",
     "output_type": "stream",
     "text": [
      "[66, 79, 29, 26, 63, 45, 69, 35, 60, 47]\n",
      "3 dos elementos da lista são pares.\n"
     ]
    }
   ],
   "source": [
    "#4\n",
    "from random import randint\n",
    "rand_list = [randint(1, 100) for i in range(10)]\n",
    "acc = 0\n",
    "for i in rand_list:\n",
    "    if i % 2 == 0:\n",
    "        acc += 1\n",
    "print(rand_list)\n",
    "print(f'{acc} dos elementos da lista são pares.')"
   ]
  },
  {
   "cell_type": "code",
   "execution_count": 6,
   "id": "0830877d",
   "metadata": {},
   "outputs": [
    {
     "name": "stdout",
     "output_type": "stream",
     "text": [
      "[29, 96, 1, 56, 20, 2, 19, 57, 90, 86]\n",
      "O maior número da lista é 96\n"
     ]
    }
   ],
   "source": [
    "#5\n",
    "from random import randint\n",
    "rand_list = [randint(1, 100) for i in range(10)]\n",
    "largest_num = 0\n",
    "for i in rand_list:\n",
    "    if i > largest_num:\n",
    "        largest_num = i\n",
    "print(rand_list)\n",
    "print(f'O maior número da lista é {largest_num}')"
   ]
  },
  {
   "cell_type": "code",
   "execution_count": 7,
   "id": "065f23ef",
   "metadata": {},
   "outputs": [
    {
     "name": "stdout",
     "output_type": "stream",
     "text": [
      "[64, 29, 40, 61, 10, 1, 9, 87, 88, 19]\n",
      "88 87 64 "
     ]
    }
   ],
   "source": [
    "#6\n",
    "from random import randint\n",
    "rand_list = [randint(1, 100) for i in range(10)]\n",
    "print(rand_list)\n",
    "for i in range(3):\n",
    "    print(max(rand_list), end=' ')\n",
    "    rand_list.remove(max(rand_list))"
   ]
  },
  {
   "cell_type": "code",
   "execution_count": 8,
   "id": "6cc25365",
   "metadata": {},
   "outputs": [
    {
     "name": "stdout",
     "output_type": "stream",
     "text": [
      "Informe as listas, separando seus respectivos elementos por espaço.\n",
      "Lista 1: 1 2 3\n",
      "Lista 2: 4 5 6\n",
      "Nova lista -> [5, 7, 9]\n"
     ]
    }
   ],
   "source": [
    "#7\n",
    "print('Informe as listas, separando seus respectivos elementos por espaço.')\n",
    "l1 = list(map(int, input('Lista 1: ').split(' ')))\n",
    "l2 = list(map(int, input('Lista 2: ').split(' ')))\n",
    "mixed_list = [sum(i) for i in zip(l1, l2)]\n",
    "print(f'Nova lista -> {mixed_list}')"
   ]
  },
  {
   "cell_type": "code",
   "execution_count": 9,
   "id": "3cbcb6d2",
   "metadata": {},
   "outputs": [
    {
     "name": "stdout",
     "output_type": "stream",
     "text": [
      "Informe as listas, separando seus respectivos elementos por espaço.\n",
      "Lista 1: 1 2 3\n",
      "Lista 2: 4 5 6\n",
      "Produto escalar igual a 32\n"
     ]
    }
   ],
   "source": [
    "#8\n",
    "print('Informe as listas, separando seus respectivos elementos por espaço.')\n",
    "l1 = list(map(int, input('Lista 1: ').split(' ')))\n",
    "l2 = list(map(int, input('Lista 2: ').split(' ')))\n",
    "dp = sum([l1[i] * l2[i] for i in range(len(l1))])\n",
    "print(f'Produto escalar igual a {dp}')"
   ]
  },
  {
   "cell_type": "code",
   "execution_count": 10,
   "id": "fdbb09ee",
   "metadata": {},
   "outputs": [
    {
     "name": "stdout",
     "output_type": "stream",
     "text": [
      "Entre com a lista, separando os elementos por espaço: 1 2 3\n",
      "Lista recebida -> ['1', '2', '3']\n"
     ]
    }
   ],
   "source": [
    "#9\n",
    "given_list = input('Entre com a lista, separando os elementos por espaço: ').split(' ')\n",
    "print(f'Lista recebida -> {given_list}')"
   ]
  },
  {
   "cell_type": "code",
   "execution_count": 11,
   "id": "8cdda6bc",
   "metadata": {},
   "outputs": [
    {
     "name": "stdout",
     "output_type": "stream",
     "text": [
      "[1.0, 2.0, 3.0]\n"
     ]
    }
   ],
   "source": [
    "#10\n",
    "float_list = list(map(float, ['1', '2', '3']))\n",
    "print(float_list)"
   ]
  },
  {
   "cell_type": "code",
   "execution_count": 12,
   "id": "c98fa4a8",
   "metadata": {},
   "outputs": [
    {
     "name": "stdout",
     "output_type": "stream",
     "text": [
      "Entre com as 4 notas, separando-as por espaço.\n",
      "Notas: 10 10 10 10\n",
      "A média é 10.0.\n"
     ]
    }
   ],
   "source": [
    "#11\n",
    "print('Entre com as 4 notas, separando-as por espaço.')\n",
    "grades = list(map(float, input('Notas: ').split(' ')))\n",
    "avg = sum(grades) / len(grades)\n",
    "print(f'A média é {avg}.')"
   ]
  },
  {
   "cell_type": "code",
   "execution_count": 14,
   "id": "a0cf6842",
   "metadata": {},
   "outputs": [
    {
     "name": "stdout",
     "output_type": "stream",
     "text": [
      "Lista gerada -> [4, 1, 1, 9, 1, 6, 2, 8, 9, 1]\n",
      "\ta) [4, 1, 1, 9]\n",
      "\tb) [6, 2, 8, 9, 1]\n",
      "\tc) [1, 9, 6, 8, 1]\n",
      "\td) [1, 1, 2, 9]\n",
      "\te) [1, 9, 8, 2, 6, 1, 9, 1, 1, 4]\n",
      "\tf) [1, 9, 1, 1, 4]\n",
      "\tg) [1, 9, 8, 2, 6]\n"
     ]
    }
   ],
   "source": [
    "#12\n",
    "from random import randint\n",
    "rand_nums  = [randint(1, 10) for i in range(10)]\n",
    "print(f'Lista gerada -> {rand_nums}')\n",
    "print(f'\\ta) {rand_nums[0:4]}')\n",
    "print(f'\\tb) {rand_nums[5:]}')\n",
    "print(f'\\tc) {rand_nums[1::2]}')\n",
    "print(f'\\td) {rand_nums[2::2]}')\n",
    "print(f'\\te) {rand_nums[::-1]}')\n",
    "print(f'\\tf) {rand_nums[0:5][::-1]}')\n",
    "print(f'\\tg) {rand_nums[5:][::-1]}')"
   ]
  },
  {
   "cell_type": "code",
   "execution_count": 16,
   "id": "6f7aeae3",
   "metadata": {},
   "outputs": [
    {
     "name": "stdout",
     "output_type": "stream",
     "text": [
      "Números sorteados -> [22, 10, 24, 62, 66, 83, 92, 23, 44, 69]\n",
      "5 são maiores que 50.\n"
     ]
    }
   ],
   "source": [
    "#13\n",
    "from random import randint\n",
    "nums = [randint(1, 99) for i in range(10)]\n",
    "print(f'Números sorteados -> {nums}')\n",
    "print(f'{sum(c > 50 for c in nums)} são maiores que 50.')"
   ]
  },
  {
   "cell_type": "code",
   "execution_count": 19,
   "id": "a6ccdf43",
   "metadata": {},
   "outputs": [
    {
     "name": "stdout",
     "output_type": "stream",
     "text": [
      "Lista gerada -> [8, 85, 60, 48, 44, 90, 10, 16, 1, 76]\n",
      "\ta) 90\n",
      "\tb) 1\n",
      "\tc) 43.8\n",
      "\td) 438\n"
     ]
    }
   ],
   "source": [
    "#14\n",
    "from random import randint\n",
    "nums = [randint(1, 99) for i in range(10)]\n",
    "print(f'Lista gerada -> {nums}')\n",
    "print(f'\\ta) {max(nums)}')\n",
    "print(f'\\tb) {min(nums)}')\n",
    "print(f'\\tc) {sum(nums) / len(nums)}')\n",
    "print(f'\\td) {sum(nums)}')"
   ]
  },
  {
   "cell_type": "code",
   "execution_count": 23,
   "id": "dd403d41",
   "metadata": {},
   "outputs": [
    {
     "name": "stdout",
     "output_type": "stream",
     "text": [
      "Informe o nome do(a) aluno(a): Priscila\n",
      "Informe a idade do(a) aluno(a): 19\n",
      "Informe o número de provas que o(a) aluno(a) realizou: 4\n",
      "1ª Nota: 10\n",
      "2ª Nota: 10\n",
      "3ª Nota: 10\n",
      "4ª Nota: 10\n",
      "Eis os dados do aluno.\n",
      "['Priscila', 19, [10.0, 10.0, 10.0, 10.0], 10.0, True].\n"
     ]
    }
   ],
   "source": [
    "#Desafio 1\n",
    "name    = input('Informe o nome do(a) aluno(a): ')\n",
    "age     = int(input('Informe a idade do(a) aluno(a): '))\n",
    "n_exams = int(input('Informe o número de provas que o(a) aluno(a) realizou: '))\n",
    "grades  = [float(input(f'{i+1}ª Nota: ')) for i in range(n_exams)]\n",
    "average = sum(grades) / len(grades)\n",
    "student_data = [\n",
    "    name,\n",
    "    age,\n",
    "    grades,\n",
    "    average,\n",
    "    True if average > 5 else False\n",
    "]\n",
    "print(f'Eis os dados do aluno.\\n{student_data}.')"
   ]
  },
  {
   "cell_type": "code",
   "execution_count": 22,
   "id": "f317b2e7",
   "metadata": {},
   "outputs": [
    {
     "name": "stdout",
     "output_type": "stream",
     "text": [
      "Informe o nome do(a) aluno(a): Priscila\n",
      "Informe a idade do(a) aluno(a): 19\n",
      "Informe o número de provas que o(a) aluno(a) realizou: 4\n",
      "1ª Nota: 10\n",
      "2ª Nota: 10\n",
      "3ª Nota: 10\n",
      "4ª Nota: 10\n",
      "Eis os dados do aluno.\n",
      "['Priscila', 19, [10.0, 10.0], 10.0, True].\n"
     ]
    }
   ],
   "source": [
    "#Desafio 2\n",
    "from os import system\n",
    "name    = input('Informe o nome do(a) aluno(a): ')\n",
    "age     = int(input('Informe a idade do(a) aluno(a): '))\n",
    "n_exams = int(input('Informe o número de provas que o(a) aluno(a) realizou: '))\n",
    "while n_exams <= 2:\n",
    "    system('clear')\n",
    "    print('O número de provas precisa ser maior do que 2.')\n",
    "    n_exams = int(input('Informe novamente o número de provas que o(a) aluno(a) realizou: '))\n",
    "grades  = [float(input(f'{i+1}ª Nota: ')) for i in range(n_exams)]\n",
    "grades_bk = grades\n",
    "grades_bk.remove(max(grades_bk))\n",
    "grades_bk.remove(min(grades_bk))\n",
    "average = sum(grades_bk) / len(grades_bk)\n",
    "student_data = [\n",
    "    name,\n",
    "    age,\n",
    "    grades_bk,\n",
    "    average,\n",
    "    True if average > 5 else False\n",
    "]\n",
    "print(f'Eis os dados do aluno.\\n{student_data}.')"
   ]
  },
  {
   "cell_type": "code",
   "execution_count": 21,
   "id": "ace49265",
   "metadata": {},
   "outputs": [
    {
     "name": "stdout",
     "output_type": "stream",
     "text": [
      "Informe seu CPF: 286.255.878-87\n",
      "CPF válido!\n"
     ]
    }
   ],
   "source": [
    "#Desafio 3\n",
    "from re import sub\n",
    "cpf = input('Informe seu CPF: ')\n",
    "cpf = sub(r'\\D', '', cpf)\n",
    "while len(cpf) < 11:\n",
    "    cpf = input('Informe seu CPF: ')\n",
    "cpf = [int(i) for i in cpf]\n",
    "x = 0\n",
    "for i, j in zip(range(10, 1, -1), range(9)):\n",
    "\tx += cpf[j] * i\n",
    "\n",
    "if x * 10 % 11 != cpf[9]:\n",
    "\tprint('CPF inválido.')\n",
    "\tquit()\n",
    "\n",
    "x = 0\n",
    "for i, j in zip(range(11, 1, -1), range(10)):\n",
    "\tx += cpf[j] * i\n",
    "\n",
    "if x * 10 % 11 == cpf[10]:\n",
    "\tprint('CPF válido!')\t\n",
    "else:\n",
    "\tprint('CPF inválido.')\n",
    "\tprint(cpf)\n",
    "\tprint(x*10%11)"
   ]
  }
 ],
 "metadata": {
  "kernelspec": {
   "display_name": "Python 3",
   "language": "python",
   "name": "python3"
  },
  "language_info": {
   "codemirror_mode": {
    "name": "ipython",
    "version": 3
   },
   "file_extension": ".py",
   "mimetype": "text/x-python",
   "name": "python",
   "nbconvert_exporter": "python",
   "pygments_lexer": "ipython3",
   "version": "3.10.0"
  }
 },
 "nbformat": 4,
 "nbformat_minor": 5
}
