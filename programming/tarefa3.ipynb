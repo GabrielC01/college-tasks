{
 "cells": [
  {
   "cell_type": "code",
   "execution_count": 1,
   "id": "593681f5",
   "metadata": {},
   "outputs": [
    {
     "name": "stdout",
     "output_type": "stream",
     "text": [
      "Entre com um número: 10\n",
      "1\n",
      "2\n",
      "3\n",
      "4\n",
      "5\n",
      "6\n",
      "7\n",
      "8\n",
      "9\n",
      "10\n"
     ]
    }
   ],
   "source": [
    "#1\n",
    "num = int(input(\"Entre com um número: \"))\n",
    "i = 1\n",
    "while i <= num:\n",
    "    print(i)\n",
    "    i += 1"
   ]
  },
  {
   "cell_type": "code",
   "execution_count": 2,
   "id": "1d49b114",
   "metadata": {},
   "outputs": [
    {
     "name": "stdout",
     "output_type": "stream",
     "text": [
      "Entre com um número: 10\n",
      "O fatorial do número dado é 3628800.\n"
     ]
    }
   ],
   "source": [
    "#2\n",
    "num  = int(input(\"Entre com um número: \"))\n",
    "fact = 1\n",
    "while num > 1:\n",
    "    fact *= num\n",
    "    num -= 1\n",
    "print(f\"O fatorial do número dado é {fact}.\")"
   ]
  },
  {
   "cell_type": "code",
   "execution_count": 3,
   "id": "6912fd2b",
   "metadata": {},
   "outputs": [
    {
     "name": "stdout",
     "output_type": "stream",
     "text": [
      "Entre com um número: 10\n",
      "O somatório resulta em 55.\n"
     ]
    }
   ],
   "source": [
    "#3\n",
    "num = int(input(\"Entre com um número: \"))\n",
    "acc = 0\n",
    "i = 1\n",
    "while i <= num:\n",
    "    acc += i\n",
    "    i += 1\n",
    "print(f\"O somatório resulta em {acc}.\")"
   ]
  },
  {
   "cell_type": "code",
   "execution_count": 4,
   "id": "1891630a",
   "metadata": {},
   "outputs": [
    {
     "name": "stdout",
     "output_type": "stream",
     "text": [
      "9 · 1 = 9\n",
      "9 · 2 = 18\n",
      "9 · 3 = 27\n",
      "9 · 4 = 36\n",
      "9 · 5 = 45\n",
      "9 · 6 = 54\n",
      "9 · 7 = 63\n",
      "9 · 8 = 72\n",
      "9 · 9 = 81\n",
      "9 · 10 = 90\n"
     ]
    }
   ],
   "source": [
    "#4\n",
    "for i in range(1, 11):\n",
    "    print(f\"9 · {i} = {9 * i}\")"
   ]
  },
  {
   "cell_type": "code",
   "execution_count": 5,
   "id": "aa0a8a39",
   "metadata": {},
   "outputs": [
    {
     "name": "stdout",
     "output_type": "stream",
     "text": [
      "Entre com números quantas vezes quiser. Quando acabar, entre com 0.\n",
      "> 10\n",
      "> 0\n",
      "O somatório resulta em 10.0.\n"
     ]
    }
   ],
   "source": [
    "#5\n",
    "print(\"Entre com números quantas vezes quiser. Quando acabar, entre com 0.\")\n",
    "acc = 0\n",
    "num = float(input(\"> \"))\n",
    "acc += num\n",
    "while num != 0:\n",
    "    num = float(input(\"> \"))\n",
    "    acc += num\n",
    "print(f\"O somatório resulta em {acc}.\")"
   ]
  },
  {
   "cell_type": "code",
   "execution_count": 6,
   "id": "af00f33f",
   "metadata": {},
   "outputs": [
    {
     "name": "stdout",
     "output_type": "stream",
     "text": [
      "Tente advinhar o número gerado aleatoriamente de 0 a 10.\n",
      "> 1\n",
      "Você errou. Tente novamente\n",
      "> 2\n",
      "Você errou. Tente novamente\n",
      "> 3\n",
      "Você errou. Tente novamente\n",
      "> 4\n",
      "Você errou. Tente novamente\n",
      "> 5\n",
      "Você errou. Tente novamente\n",
      "> 6\n",
      "Você errou. Tente novamente\n",
      "> 7\n",
      "Você errou. Tente novamente\n",
      "> 8\n",
      "Parabéns! Você acertou.\n"
     ]
    }
   ],
   "source": [
    "#6\n",
    "from random import randint\n",
    "rdm = randint(0, 10)\n",
    "print(\"Tente advinhar o número gerado aleatoriamente de 0 a 10.\")\n",
    "trial = int(input(\"> \"))\n",
    "while trial != rdm:\n",
    "    print(\"Você errou. Tente novamente\")\n",
    "    trial = int(input(\"> \"))\n",
    "print(\"Parabéns! Você acertou.\")"
   ]
  },
  {
   "cell_type": "code",
   "execution_count": 7,
   "id": "e9139704",
   "metadata": {},
   "outputs": [
    {
     "name": "stdout",
     "output_type": "stream",
     "text": [
      "Idade: 19\n",
      "Salário: 0\n",
      "Sexo (M ou F): M\n",
      "Salário errado\n"
     ]
    }
   ],
   "source": [
    "#7\n",
    "age    = int(input('Idade: '))\n",
    "wage   = float(input('Salário: '))\n",
    "gender = input('Sexo (M ou F): ')\n",
    "if age not in range(0, 151):\n",
    "    print('Idade errada')\n",
    "if wage <= 0:\n",
    "    print('Salário errado')\n",
    "if gender not in ['M', 'F', 'Outro']:\n",
    "    print('Sexo errado')"
   ]
  },
  {
   "cell_type": "code",
   "execution_count": 8,
   "id": "71801035",
   "metadata": {},
   "outputs": [
    {
     "name": "stdout",
     "output_type": "stream",
     "text": [
      "O somatório resulta em 2.0.\n"
     ]
    }
   ],
   "source": [
    "#Desafio\n",
    "acc = 1\n",
    "divisor = 2\n",
    "for i in range(1000):\n",
    "    acc += 1 / divisor\n",
    "    divisor *= 2\n",
    "print(f\"O somatório resulta em {acc}.\")"
   ]
  },
  {
   "cell_type": "code",
   "execution_count": 9,
   "id": "3b3ec4e5",
   "metadata": {},
   "outputs": [
    {
     "name": "stdout",
     "output_type": "stream",
     "text": [
      "O somatório resulta em 1.7182818284590455.\n"
     ]
    }
   ],
   "source": [
    "#Super desafio\n",
    "count_terms = 1\n",
    "acc = 0\n",
    "while count_terms <= 1000:\n",
    "    fact = 1\n",
    "    n = count_terms\n",
    "    while n > 1:\n",
    "        fact *= n\n",
    "        n -= 1\n",
    "    acc += 1 / fact\n",
    "    \n",
    "    count_terms += 1\n",
    "print(f\"O somatório resulta em {acc}.\")"
   ]
  },
  {
   "cell_type": "code",
   "execution_count": null,
   "id": "53f94129",
   "metadata": {},
   "outputs": [],
   "source": []
  }
 ],
 "metadata": {
  "kernelspec": {
   "display_name": "Python 3",
   "language": "python",
   "name": "python3"
  },
  "language_info": {
   "codemirror_mode": {
    "name": "ipython",
    "version": 3
   },
   "file_extension": ".py",
   "mimetype": "text/x-python",
   "name": "python",
   "nbconvert_exporter": "python",
   "pygments_lexer": "ipython3",
   "version": "3.10.0"
  }
 },
 "nbformat": 4,
 "nbformat_minor": 5
}
