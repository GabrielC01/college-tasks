{
 "cells": [
  {
   "cell_type": "code",
   "execution_count": null,
   "id": "fbe7b2bf",
   "metadata": {},
   "outputs": [],
   "source": [
    "#1\n",
    "string = input('Entrada < ')\n",
    "for i in string:\n",
    "    print(word[i])"
   ]
  },
  {
   "cell_type": "code",
   "execution_count": null,
   "id": "9e0bb97d",
   "metadata": {},
   "outputs": [],
   "source": [
    "#2\n",
    "string = input('Entre com uma palavra < ')\n",
    "new_string = str()\n",
    "for i in string:\n",
    "    new_word += i\n",
    "print(new_word)"
   ]
  },
  {
   "cell_type": "code",
   "execution_count": null,
   "id": "22027846",
   "metadata": {},
   "outputs": [],
   "source": [
    "#3\n",
    "word = input('Entre com uma palavra < ')\n",
    "new_string = str()\n",
    "for i in string:\n",
    "    if string.index(i) % 2 == 0 or string.index(i) == 0:\n",
    "        new_string += i.upper()\n",
    "    else:\n",
    "        new_string += i.lower()\n",
    "print(new_word)"
   ]
  },
  {
   "cell_type": "code",
   "execution_count": null,
   "id": "f9c3c38a",
   "metadata": {},
   "outputs": [],
   "source": [
    "#4\n",
    "string = input('Entre com uma palavra < ')\n",
    "new_string = ''.join([string[i] + ' ' for i in range(len(string))])\n",
    "print(new_string)"
   ]
  },
  {
   "cell_type": "code",
   "execution_count": null,
   "id": "90910edd",
   "metadata": {},
   "outputs": [],
   "source": [
    "#5\n",
    "def char_to_num(string):\n",
    "    letters = {\n",
    "        'a': '4',\n",
    "        'e': '3',\n",
    "        'i': '1',\n",
    "        't': '7',\n",
    "    }\n",
    "    new_string = ''\n",
    "    for i in string:\n",
    "        if i in letters:\n",
    "            new_string += letters.get(i)\n",
    "        else:\n",
    "            new_string += i\n",
    "    return new_string\n",
    "\n",
    "string = input('Entre com uma palavra < ')\n",
    "string = map(char_to_num, string)\n",
    "print(''.join(string))"
   ]
  },
  {
   "cell_type": "code",
   "execution_count": null,
   "id": "b5b32b4c",
   "metadata": {},
   "outputs": [],
   "source": [
    "#6\n",
    "string = input('Entre com uma palavra < ')\n",
    "print(string[::-1])"
   ]
  },
  {
   "cell_type": "code",
   "execution_count": null,
   "id": "9a997334",
   "metadata": {},
   "outputs": [],
   "source": [
    "#7\n",
    "string = input('Entre com uma palavra < ')\n",
    "if string == string[::-1]:\n",
    "    print('É um palíndromo.')"
   ]
  },
  {
   "cell_type": "code",
   "execution_count": null,
   "id": "1ef7168d",
   "metadata": {},
   "outputs": [],
   "source": [
    "#8\n",
    "text = input('Entre com uma frase < ').split(' ')\n",
    "word = input('Entre com uma palavra < ')\n",
    "print(True) if word in text else print(False)"
   ]
  },
  {
   "cell_type": "code",
   "execution_count": null,
   "id": "e2420c49",
   "metadata": {},
   "outputs": [],
   "source": [
    "#9\n",
    "from re import findall\n",
    "string = input('Entre com qualquer texto < ')\n",
    "letters = ''.join(findall('[a-zA-Z]', string))\n",
    "numbers = ''.join(findall('\\d', string))\n",
    "print(letters)\n",
    "print(numbers)"
   ]
  },
  {
   "cell_type": "code",
   "execution_count": null,
   "id": "7a13d7d0",
   "metadata": {},
   "outputs": [],
   "source": [
    "#10\n",
    "def string_function(string, char):\n",
    "    char_pos = [i for i, j in enumerate(string) if j == char]\n",
    "    print(string.count(char))\n",
    "    print(char_pos)\n",
    "    print(char_pos[-1] - char_pos[0])\n",
    "\n",
    "string_function(input('Entre com um texto < '), input('Entre com uma letra < '))"
   ]
  },
  {
   "cell_type": "code",
   "execution_count": null,
   "id": "b5d5c1e3",
   "metadata": {},
   "outputs": [],
   "source": [
    "#11\n",
    "def crypt_msg(msg):\n",
    "    msg = msg.lower()\n",
    "    print(msg)\n",
    "    new_msg = ''\n",
    "    for i in msg:\n",
    "        new_msg += chr(ord(i)+ 90-(ord(i) - 65))\n",
    "        print(new_msg)\n",
    "        #print(ord(i))\n",
    "    return new_msg\n",
    "msg = input('Entre com uma mensagem < ')\n",
    "print(crypt_msg(msg))\n"
   ]
  }
 ],
 "metadata": {
  "kernelspec": {
   "display_name": "Python 3 (ipykernel)",
   "language": "python",
   "name": "python3"
  },
  "language_info": {
   "codemirror_mode": {
    "name": "ipython",
    "version": 3
   },
   "file_extension": ".py",
   "mimetype": "text/x-python",
   "name": "python",
   "nbconvert_exporter": "python",
   "pygments_lexer": "ipython3",
   "version": "3.9.9"
  }
 },
 "nbformat": 4,
 "nbformat_minor": 5
}
