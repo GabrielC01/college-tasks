{
 "cells": [
  {
   "cell_type": "markdown",
   "id": "6dda6f3c",
   "metadata": {},
   "source": [
    "### Ufopa\n",
    "Disciplina de Programação <br>\n",
    "Professor Bruno Silva <br>\n",
    "Avaliação 1"
   ]
  },
  {
   "cell_type": "markdown",
   "id": "65a34824",
   "metadata": {},
   "source": [
    "Aluno: _"
   ]
  },
  {
   "cell_type": "markdown",
   "id": "c144bf7e",
   "metadata": {},
   "source": [
    "**1 - Dado o seguinte trecho de código, o que deve ser colocado no lugar de XXXXXX para que a função imprima na tela os números ímpares de 0 a 10?**\n",
    "\n",
    "`\n",
    "x = 0\n",
    "while x <= 10: \n",
    "    if XXXXXX:    \n",
    "        print(x) \n",
    "    x += 1\n",
    "`"
   ]
  },
  {
   "cell_type": "code",
   "execution_count": 1,
   "id": "f6ad14eb",
   "metadata": {},
   "outputs": [
    {
     "name": "stdout",
     "output_type": "stream",
     "text": [
      "1\n",
      "3\n",
      "5\n",
      "7\n",
      "9\n"
     ]
    }
   ],
   "source": [
    "x = 0\n",
    "while x <= 10: \n",
    "    if x % 2 != 0:    \n",
    "        print(x) \n",
    "    x += 1"
   ]
  },
  {
   "cell_type": "markdown",
   "id": "76140c99",
   "metadata": {},
   "source": [
    "**2 - Dado o seguinte trecho de código, quais os textos serão mostradas na tela?**\n",
    "\n",
    "`\n",
    "x = 4 \n",
    "if x < 4: \n",
    "    print('linha 1') \n",
    "elif x > 5: \n",
    "    print('linha 2')  \n",
    "print('linha 3') \n",
    "if x % 4 == 0: \n",
    "    print('linha 4') \n",
    "else: \n",
    "    print('linha 5')\n",
    "`"
   ]
  },
  {
   "cell_type": "code",
   "execution_count": 2,
   "id": "fde9ef87",
   "metadata": {},
   "outputs": [
    {
     "name": "stdout",
     "output_type": "stream",
     "text": [
      "linha 3\n",
      "linha 4\n"
     ]
    }
   ],
   "source": [
    "x = 4 \n",
    "if x < 4: \n",
    "    print('linha 1') \n",
    "elif x > 5: \n",
    "    print('linha 2')  \n",
    "print('linha 3') \n",
    "if x % 4 == 0: \n",
    "    print('linha 4') \n",
    "else: \n",
    "    print('linha 5')"
   ]
  },
  {
   "cell_type": "markdown",
   "id": "31bdaad4",
   "metadata": {},
   "source": [
    "**3 - Foram anotadas as idades e alturas de 30 alunos. Faça um programa que determine quantos alunos com mais de 13 anos possuem altura inferior à média de altura desses alunos.**"
   ]
  },
  {
   "cell_type": "code",
   "execution_count": 3,
   "id": "8e1b29e2",
   "metadata": {},
   "outputs": [
    {
     "name": "stdout",
     "output_type": "stream",
     "text": [
      "Média: 1.6\n",
      "Alunos mais baixos do que a média: 12\n"
     ]
    }
   ],
   "source": [
    "from random import uniform\n",
    "\n",
    "\n",
    "students = [round(uniform(1, 2.0)) for i in range(30)]\n",
    "avg = round(sum(students)/len(students), 2)\n",
    "count = 0\n",
    "print('Média: ' + str(avg))\n",
    "for h in students:\n",
    "    if h < avg:\n",
    "        count += 1 \n",
    "\n",
    "print('Alunos mais baixos do que a média: ' + str(count))"
   ]
  },
  {
   "cell_type": "markdown",
   "id": "ea7f0bea",
   "metadata": {},
   "source": [
    "**4 - Faça um programa que receba a temperatura média de cada mês do ano e armazene-as em uma lista. Após isto, calcule a média anual das temperaturas e mostre todas as temperaturas acima da média anual, e em que mês elas ocorreram (mostrar o mês por extenso: 1 – Janeiro, 2 – Fevereiro, . . . ).**"
   ]
  },
  {
   "cell_type": "code",
   "execution_count": 6,
   "id": "11fb65d3",
   "metadata": {
    "scrolled": true
   },
   "outputs": [
    {
     "name": "stdout",
     "output_type": "stream",
     "text": [
      "Janeiro: 1\n",
      "Fevereiro: 1\n",
      "Março: 2\n",
      "Abril: 1\n",
      "Maio: 2\n",
      "Junho: 1\n",
      "Julho: 2\n",
      "Agosto: 2\n",
      "Setembro: 1\n",
      "Outubro: 2\n",
      "Novembro: 2\n",
      "Dezembro: 1\n",
      "\n",
      "Março --> 2.0\n",
      "Maio --> 2.0\n",
      "Julho --> 2.0\n",
      "Agosto --> 2.0\n",
      "Outubro --> 2.0\n",
      "Novembro --> 2.0\n"
     ]
    }
   ],
   "source": [
    "import random\n",
    "months = {1: 'Janeiro', 2: 'Fevereiro', 3: 'Março',\n",
    "              4: 'Abril', 5: 'Maio', 6: 'Junho',\n",
    "             7: 'Julho', 8: 'Agosto', 9: 'Setembro',\n",
    "             10: 'Outubro', 11: 'Novembro', 12: 'Dezembro'\n",
    "}\n",
    "\n",
    "temps = [float(input(f\"{months.get(i+1)}: \")) for i in range(12)]\n",
    "\n",
    "avg = sum(temps) / len(temps)\n",
    "higher_temps = [[months.get(i+1), temps[i]] for i in range(len(temps)) if temps[i] > avg]\n",
    "\n",
    "print()\n",
    "for temp in higher_temps:\n",
    "    print(f'{temp[0]} --> {temp[1]}')"
   ]
  },
  {
   "cell_type": "markdown",
   "id": "05ed1587",
   "metadata": {},
   "source": [
    "**5 - Faça um programa que peça um valor monetário e aumente-o em 15%. Seu programa deve imprimir a mensagem:**\n",
    "\n",
    "`\n",
    "O novo valor é [valor].\n",
    "`"
   ]
  },
  {
   "cell_type": "code",
   "execution_count": 7,
   "id": "ff8d339b",
   "metadata": {},
   "outputs": [
    {
     "name": "stdout",
     "output_type": "stream",
     "text": [
      "Entre com um valor monetário: 10\n",
      "O novo valor é 11.5\n"
     ]
    }
   ],
   "source": [
    "cash = float(input(\"Entre com um valor monetário: \"))\n",
    "new_cash = cash + cash * (15/100)\n",
    "print(f'O novo valor é {new_cash}')"
   ]
  },
  {
   "cell_type": "markdown",
   "id": "2fa7135c",
   "metadata": {},
   "source": [
    "**6 - Um produto vai sofrer aumento de acordo com a Tabela 1 abaixo. Faça um programa que peça para o usuário digitar o valor do produto de acordo com o preço antigo e escreva uma das mensagens da Tabela 2, de acordo com o preço reajustado:**\n",
    "\n",
    "`\n",
    "Tabela 1\n",
    "`\n",
    "\n",
    "`\n",
    "Preço Antigo\t       % de aumento\n",
    "Até 50 reais\t       5%\n",
    "Entre 50 e 100 reais   10%\n",
    "De 100 a 150 reais     13%\n",
    "Acima de 150 reais     15%\n",
    "`\n",
    "\n",
    "`\n",
    "Tabela 2\n",
    "`\n",
    "\n",
    "`\n",
    "Preço Novo             Mensagem\n",
    "Até 80 reais           Barato\n",
    "Entre 80 e 115 reais   Razoável\n",
    "Entre 115 e 150 reais  Normal\n",
    "Entre 150 e 170 reais  Caro\n",
    "Acima de 170 reais     Muito Caro\n",
    "`\n"
   ]
  },
  {
   "cell_type": "code",
   "execution_count": 8,
   "id": "fcfab2ed",
   "metadata": {},
   "outputs": [
    {
     "name": "stdout",
     "output_type": "stream",
     "text": [
      "Entre com o preço: 10\n",
      "Barato\n"
     ]
    }
   ],
   "source": [
    "price = float(input('Entre com o preço: '))\n",
    "if price in range(0, 51):\n",
    "    price += (price * 0.05)\n",
    "elif price in range(50, 101):\n",
    "    price += (price * 0.10)\n",
    "elif price in range(100, 151):\n",
    "    price += (price * 0.13)\n",
    "else:\n",
    "    price += (price * 0.15)\n",
    "\n",
    "if price <= 80:\n",
    "    print('Barato')\n",
    "elif price in range(81, 116):\n",
    "    print('Razoável')\n",
    "elif price in range(116, 151):\n",
    "    print('Normal')\n",
    "elif price in range(150, 171):\n",
    "    print('Caro')\n",
    "else:\n",
    "    print('Muito Caro')"
   ]
  },
  {
   "cell_type": "markdown",
   "id": "0233750b",
   "metadata": {},
   "source": [
    "**7 - Você foi contratado para desenvolver um programa que leia o resultado da enquete e informe ao final o resultado da mesma. O programa deverá ler os valores até ser informado o valor 0, que encerra a entrada dos dados. Não deverão ser aceitos valores além dos válidos para o programa (0 a 6). Os valores referentes a cada uma das opções devem ser armazenados numa lista. Após os dados terem sido completamente informados, o programa deverá calcular a percentual de cada um dos concorrentes e informar o vencedor da enquete. O formato da saída foi dado pela empresa, e é o seguinte:**\n",
    "\n",
    "`Sistema Operacional    Votos   %`\n",
    "\n",
    "`------------------     -----   ---`\n",
    "\n",
    "`\n",
    "Windows Server          1500   17%\n",
    "Unix                     3500   40%\n",
    "Linux                    3000   34%\n",
    "Netware                   500    5%\n",
    "Mac OS                    150    2%\n",
    "Outro                     150    2%\n",
    "`\n",
    "\n",
    "`-------------------     -----`\n",
    "\n",
    "`Total                   8800`\n",
    "\n",
    "`O Sistema Operacional mais votado foi o Unix, com 3500 votos, correspondendo a 40% dos votos.`"
   ]
  },
  {
   "cell_type": "code",
   "execution_count": 11,
   "id": "ba1e2b4e",
   "metadata": {
    "scrolled": true
   },
   "outputs": [
    {
     "name": "stdout",
     "output_type": "stream",
     "text": [
      "Escolha uma opção (0 a 6): 3\n",
      "Escolha uma opção (0 a 6): 2\n",
      "Escolha uma opção (0 a 6): 3\n",
      "Escolha uma opção (0 a 6): 6\n",
      "Escolha uma opção (0 a 6): 0\n",
      "Sistema Operacional Votos %\n",
      "---------------------------\n",
      "Windows Server\t0\t0\n",
      "Unix\t\t1\t25.0\n",
      "Linux\t\t2\t50.0\n",
      "Netware\t\t0\t0\n",
      "Mac OS\t\t0\t0\n",
      "Outro\t\t1\t25.0\n",
      "---------------------------\n",
      "Total\t\t4\n",
      "O Sistema Operacional mais votado foi o Linux, com 2 votos, \n",
      "correspondendo a 50.0% dos votos.\n"
     ]
    }
   ],
   "source": [
    "options = [0, 1, 2, 3, 4, 5, 6]\n",
    "os = {1: 'Windows Server', 2: 'Unix', 3: 'Linux', 4: 'Netware',\n",
    "        5: 'Mac OS', 6: 'Outro'}\n",
    "votes = [0, 0, 0, 0, 0, 0]\n",
    "\n",
    "def vote():\n",
    "    vote = int(input(\"Escolha uma opção (0 a 6): \"))\n",
    "    while vote != 0:\n",
    "        if vote < 0 or vote > 6:\n",
    "            print('Programa encerrado.')\n",
    "            quit()\n",
    "            \n",
    "        if vote in options:\n",
    "            votes[vote-1] += 1\n",
    "        vote = int(input(\"Escolha uma opção (0 a 6): \"))\n",
    "            \n",
    "\n",
    "def show_table():\n",
    "    percs = sum(votes) / 100\n",
    "    print('Sistema Operacional Votos %')\n",
    "    print('---'*9)\n",
    "    for i in range(1, len(os)+1):\n",
    "        if votes[i-1] != 0:\n",
    "            perc = votes[i-1] / sum(votes)  * 100\n",
    "        else:\n",
    "            perc = 0\n",
    "        if len(os.get(i)) > 10:\n",
    "            print(f\"{os.get(i)}\\t{votes[i-1]}\\t{perc}\")\n",
    "        else: \n",
    "            print(f\"{os.get(i)}\\t\\t{votes[i-1]}\\t{perc}\")\n",
    "    most_voted = votes.index(max(votes)) + 1\n",
    "    l_perc = votes[most_voted - 1] / sum(votes) * 100\n",
    "    print('---'*9)\n",
    "    print('Total\\t\\t' + str(sum(votes)))\n",
    "    print('O Sistema Operacional mais votado foi o ', end='')\n",
    "    print(f'{os.get(most_voted)}, com {votes[most_voted-1]} votos, ')\n",
    "    print(f'correspondendo a {l_perc}% dos votos.')\n",
    "\n",
    "\n",
    "vote()\n",
    "show_table()"
   ]
  },
  {
   "cell_type": "markdown",
   "id": "076db37c",
   "metadata": {},
   "source": [
    "**8 - Faça um programa, usando loops, que peça para um usuário digitar um número e que só finaliza quando o usuário digitar 0. Ao final imprima a soma de todos os números digitados.**"
   ]
  },
  {
   "cell_type": "code",
   "execution_count": 12,
   "id": "f5e3cc1d",
   "metadata": {},
   "outputs": [
    {
     "name": "stdout",
     "output_type": "stream",
     "text": [
      "Entre com um número: 10\n",
      "Entre com um número: 10\n",
      "Entre com um número: 10\n",
      "Entre com um número: 0\n",
      "\n",
      "Soma -> 30\n"
     ]
    }
   ],
   "source": [
    "num = int(input(\"Entre com um número: \"))\n",
    "summation = num\n",
    "while num != 0:\n",
    "    num = int(input(\"Entre com um número: \"))\n",
    "    summation += num\n",
    "print('\\nSoma -> ' +str(summation))"
   ]
  },
  {
   "cell_type": "markdown",
   "id": "12fb1d95",
   "metadata": {},
   "source": [
    "**9 - Faça um programa que sorteia 10 números entre 0 e 100 e conte quantos números sorteados são maiores que 50.**"
   ]
  },
  {
   "cell_type": "code",
   "execution_count": 13,
   "id": "76353d2d",
   "metadata": {},
   "outputs": [
    {
     "name": "stdout",
     "output_type": "stream",
     "text": [
      "[36, 75, 21, 62, 78, 55, 71, 40, 37, 3]\n",
      "Maiores do que 50: 5\n"
     ]
    }
   ],
   "source": [
    "from random import randint\n",
    "rnd_nums = [randint(1, 99) for i in range(10)]\n",
    "gt_fifty = [rnd_nums[i] for i in range(len(rnd_nums)) if rnd_nums[i] > 50]\n",
    "count = 0\n",
    "for i in range(len(gt_fifty)):\n",
    "    count += 1 if gt_fifty[i] > 50 else 0\n",
    "print(rnd_nums)\n",
    "print(f'Maiores do que 50: {count}')"
   ]
  }
 ],
 "metadata": {
  "kernelspec": {
   "display_name": "Python 3 (ipykernel)",
   "language": "python",
   "name": "python3"
  },
  "language_info": {
   "codemirror_mode": {
    "name": "ipython",
    "version": 3
   },
   "file_extension": ".py",
   "mimetype": "text/x-python",
   "name": "python",
   "nbconvert_exporter": "python",
   "pygments_lexer": "ipython3",
   "version": "3.10.1"
  }
 },
 "nbformat": 4,
 "nbformat_minor": 5
}
