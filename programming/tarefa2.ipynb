{
 "cells": [
  {
   "cell_type": "code",
   "execution_count": 2,
   "id": "a973a795-068f-4f33-8b0c-55197a63ace7",
   "metadata": {},
   "outputs": [
    {
     "name": "stdin",
     "output_type": "stream",
     "text": [
      "Age:  18\n"
     ]
    },
    {
     "name": "stdout",
     "output_type": "stream",
     "text": [
      "Maior de idade\n"
     ]
    }
   ],
   "source": [
    "#1\n",
    "age = int(input('Age: '))\n",
    "print('Maior de idade') if age >= 18 else print('Menor de idade')"
   ]
  },
  {
   "cell_type": "code",
   "execution_count": 4,
   "id": "30849b32-d552-468c-9699-828c5b490697",
   "metadata": {},
   "outputs": [
    {
     "name": "stdin",
     "output_type": "stream",
     "text": [
      "Entre com um número 2\n"
     ]
    },
    {
     "name": "stdout",
     "output_type": "stream",
     "text": [
      "Positivo\n"
     ]
    }
   ],
   "source": [
    "#2\n",
    "num = float(input('Entre com um número'))\n",
    "if num > 0:\n",
    "    print('Positivo')\n",
    "elif num == 0:\n",
    "    print('Neutro')\n",
    "else:\n",
    "    print('Negativo')"
   ]
  },
  {
   "cell_type": "code",
   "execution_count": 5,
   "id": "11ec6ea4-26dd-494f-be4e-7cd564801922",
   "metadata": {},
   "outputs": [
    {
     "name": "stdin",
     "output_type": "stream",
     "text": [
      " 1\n",
      " 2\n"
     ]
    },
    {
     "name": "stdout",
     "output_type": "stream",
     "text": [
      "2.0\n"
     ]
    }
   ],
   "source": [
    "#3\n",
    "num1 = float(input())\n",
    "num2 = float(input())\n",
    "print(max(num1, num2))"
   ]
  },
  {
   "cell_type": "code",
   "execution_count": 8,
   "id": "7787b17d-3767-47e9-8b13-bebef5746270",
   "metadata": {},
   "outputs": [
    {
     "name": "stdin",
     "output_type": "stream",
     "text": [
      "Idade:  19\n",
      "Salário:  0\n",
      "Sexo:  M\n"
     ]
    },
    {
     "name": "stdout",
     "output_type": "stream",
     "text": [
      "Salário errado\n"
     ]
    }
   ],
   "source": [
    "#4\n",
    "age    = int(input('Idade: '))\n",
    "wage   = float(input('Salário: '))\n",
    "gender = input('Sexo: ')\n",
    "if age not in range(0, 151):\n",
    "    print('Idade errada')\n",
    "if wage <= 0:\n",
    "    print('Salário errado')\n",
    "if gender not in ['M', 'F', 'Outro']:\n",
    "    print('Sexo errado')"
   ]
  },
  {
   "cell_type": "code",
   "execution_count": 10,
   "id": "0103f6e1-5f9b-40e9-91c6-01e557e53fed",
   "metadata": {},
   "outputs": [
    {
     "name": "stdin",
     "output_type": "stream",
     "text": [
      " 10\n",
      " 10\n",
      " 10\n"
     ]
    },
    {
     "name": "stdout",
     "output_type": "stream",
     "text": [
      "Aprovado\n"
     ]
    }
   ],
   "source": [
    "#5\n",
    "grades = [float(input()) for i in range(3)]\n",
    "avg = sum(grades) / len(grades)\n",
    "if avg > 6:\n",
    "    print('Aprovado')\n",
    "else:\n",
    "    print('Reprovado')"
   ]
  },
  {
   "cell_type": "code",
   "execution_count": 12,
   "id": "798a20dd-1575-4b2e-b7b7-15b7652ed417",
   "metadata": {},
   "outputs": [
    {
     "name": "stdout",
     "output_type": "stream",
     "text": [
      "Advinhe o número:\n"
     ]
    },
    {
     "name": "stdin",
     "output_type": "stream",
     "text": [
      "a) 1\n",
      "b) 2\n",
      "c) 3\n",
      "d) 4\n",
      "e) 4\n",
      " 3\n"
     ]
    },
    {
     "name": "stdout",
     "output_type": "stream",
     "text": [
      "Você escolheu a alternativa 3\n",
      "Você está incorreto.\n"
     ]
    }
   ],
   "source": [
    "#6\n",
    "print('Advinhe o número:')\n",
    "guess = input('a) 1\\nb) 2\\nc) 3\\nd) 4\\ne) 4\\n')\n",
    "print(f'Você escolheu a alternativa {guess}')\n",
    "if guess == 'c' or guess == 3:\n",
    "    print('Você está correto.')\n",
    "else:\n",
    "    print('Você está incorreto.')"
   ]
  },
  {
   "cell_type": "code",
   "execution_count": 13,
   "id": "131abdbf-df53-4636-bde2-6c2b3ade621c",
   "metadata": {},
   "outputs": [
    {
     "name": "stdin",
     "output_type": "stream",
     "text": [
      "a. Mora perto da vítima?  nao\n",
      "b. Já trabalhou com a vítima?  nao\n",
      "c. Telefonou para a vítima?  nao\n",
      "d. Esteve no local do crime?  nao\n",
      "e. Devia para a vítima?  nao\n"
     ]
    },
    {
     "name": "stdout",
     "output_type": "stream",
     "text": [
      "Suspeito\n"
     ]
    }
   ],
   "source": [
    "#7\n",
    "score = 0\n",
    "score += 1 if input('a. Mora perto da vítima? ')      == 'sim' else 0\n",
    "score += 1 if input('b. Já trabalhou com a vítima? ') == 'sim' else 0\n",
    "score += 1 if input('c. Telefonou para a vítima? ')   == 'sim' else 0\n",
    "score += 1 if input('d. Esteve no local do crime? ')  == 'sim' else 0\n",
    "score += 1 if input('e. Devia para a vítima? ')       == 'sim' else 0\n",
    "if score == 5:\n",
    "    print('Assassino')\n",
    "if score == 4 or score == 3:\n",
    "    print('Cúmplice')\n",
    "if score <= 2:\n",
    "    print('Suspeito')"
   ]
  },
  {
   "cell_type": "code",
   "execution_count": null,
   "id": "9fdcdaf2-7807-428e-b452-1d49baa79a10",
   "metadata": {},
   "outputs": [],
   "source": [
    "#8\n",
    "price = float(input('Entre com o preço: '))\n",
    "if price in range(0, 51):\n",
    "    price += (price * 0.05)\n",
    "if price in range(50, 101):\n",
    "    price += (price * 0.10)\n",
    "if price in range(100, 151):\n",
    "    price += (price * 0.13)\n",
    "if price > 150:\n",
    "    price += (price * 0.15)\n",
    "\n",
    "if price <= 80:\n",
    "    print('Barato')\n",
    "if price in range(81, 116):\n",
    "    print('Razoável')\n",
    "if price in range(116, 151):\n",
    "    print('Normal')\n",
    "if price in range(150, 171):\n",
    "    print('Caro')\n",
    "if price > 170:\n",
    "    print('Muito Caro')"
   ]
  },
  {
   "cell_type": "code",
   "execution_count": null,
   "id": "6c61385e-1685-47c4-81a3-d86ad4c78544",
   "metadata": {},
   "outputs": [],
   "source": [
    "#Desafio 1\n",
    "nums = [float(input(f'{i+1}º Número: ')) for i in range(3)]\n",
    "print(max(nums))"
   ]
  },
  {
   "cell_type": "code",
   "execution_count": null,
   "id": "af765aae-45ca-43b5-8c1b-2d5ae6b163ed",
   "metadata": {},
   "outputs": [],
   "source": [
    "#Desafio 2\n",
    "nums = [float(input(f'{i+1}º Número: ')) for i in range(4)]\n",
    "print(max(nums))"
   ]
  },
  {
   "cell_type": "code",
   "execution_count": null,
   "id": "4a29db2f-abbe-4596-a7de-92292b9f18e8",
   "metadata": {},
   "outputs": [],
   "source": [
    "#Desafio 3\n",
    "print('Responda sim ser for seu caso; senão responda qualquer coisa')\n",
    "a = b = c = d = e = False\n",
    "a += True if input('a. Sente dor no corpo? ')       == 'sim' else a\n",
    "b += True if input('b. Você tem febre? ')           == 'sim' else b\n",
    "c += True if input('c. Você tem tosse? ')           == 'sim' else c\n",
    "d += True if input('d. Está com congestão nasal? ') == 'sim' else d\n",
    "e += True if input('e. Tem manchas pelo corpo? ')   == 'sim' else e\n",
    "\n",
    "if [a, b, c, d, e] == [True,  True,  False, False, True]:\n",
    "    print('Dengue')\n",
    "if [a, b, c, d, e] == [True,  True,  True,  True,  False]:\n",
    "    print('Gripe')\n",
    "if [a, b, c, d, e] == [False, True,  True,  True,  False]:\n",
    "    print('Gripe')\n",
    "if [a, b, c, d, e] == [True,  False, False, False, False]:\n",
    "    print('Sem doenças')\n",
    "if [a, b, c, d, e] == [False, False, False, False, False]:\n",
    "    print('Sem doenças')"
   ]
  }
 ],
 "metadata": {
  "kernelspec": {
   "display_name": "Python 3",
   "language": "python",
   "name": "python3"
  },
  "language_info": {
   "codemirror_mode": {
    "name": "ipython",
    "version": 3
   },
   "file_extension": ".py",
   "mimetype": "text/x-python",
   "name": "python",
   "nbconvert_exporter": "python",
   "pygments_lexer": "ipython3",
   "version": "3.10.0"
  }
 },
 "nbformat": 4,
 "nbformat_minor": 5
}
