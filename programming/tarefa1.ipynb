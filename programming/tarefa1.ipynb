{
 "cells": [
  {
   "cell_type": "code",
   "execution_count": 1,
   "id": "96a76670-b15d-415f-a14f-ee0772e26049",
   "metadata": {},
   "outputs": [
    {
     "name": "stdout",
     "output_type": "stream",
     "text": [
      "Olá, mundo!\n"
     ]
    }
   ],
   "source": [
    "#1\n",
    "print(\"Olá, mundo!\")"
   ]
  },
  {
   "cell_type": "code",
   "execution_count": 2,
   "id": "5f6c78bf-ceb7-4e10-bf3a-c49cc6d9fd38",
   "metadata": {},
   "outputs": [
    {
     "name": "stdin",
     "output_type": "stream",
     "text": [
      "Informe um número:  2\n"
     ]
    },
    {
     "name": "stdout",
     "output_type": "stream",
     "text": [
      "O número informado foi 2\n"
     ]
    }
   ],
   "source": [
    "#2\n",
    "num = int(input(\"Informe um número: \"))\n",
    "print(f\"O número informado foi {num}\")"
   ]
  },
  {
   "cell_type": "code",
   "execution_count": 11,
   "id": "cd6fe3dc-27e7-4e31-97c4-42f9aa498307",
   "metadata": {},
   "outputs": [
    {
     "name": "stdin",
     "output_type": "stream",
     "text": [
      "Entre com um número:  2\n"
     ]
    },
    {
     "name": "stdout",
     "output_type": "stream",
     "text": [
      "2.0\n"
     ]
    }
   ],
   "source": [
    "#3\n",
    "num = input(\"Entre com um número: \")\n",
    "num = float(num)\n",
    "print(num)\n",
    "# Sim, eu consigo converter em inteiros, usando a função int()."
   ]
  },
  {
   "cell_type": "code",
   "execution_count": 4,
   "id": "0d0f1ede-2ad0-4cf0-a86a-beabfc9bbdb1",
   "metadata": {},
   "outputs": [
    {
     "name": "stdin",
     "output_type": "stream",
     "text": [
      "Digite um número:  2\n",
      "Digite outro número:  2\n"
     ]
    },
    {
     "name": "stdout",
     "output_type": "stream",
     "text": [
      "4\n"
     ]
    }
   ],
   "source": [
    "#4\n",
    "soma = int(input(\"Digite um número: \")) + int(input(\"Digite outro número: \"))\n",
    "print(str(soma))"
   ]
  },
  {
   "cell_type": "code",
   "execution_count": 8,
   "id": "1ae8afa7-4ea0-43e5-9520-4b613764f8fb",
   "metadata": {},
   "outputs": [
    {
     "name": "stdin",
     "output_type": "stream",
     "text": [
      "Nota 1:  10\n",
      "Nota 2:  10\n",
      "Nota 3:  10\n",
      "Nota 4:  10\n"
     ]
    },
    {
     "name": "stdout",
     "output_type": "stream",
     "text": [
      "10.0\n"
     ]
    }
   ],
   "source": [
    "#5\n",
    "soma = 0\n",
    "for i in range(4):\n",
    "    soma += float(input(f\"Nota {i + 1}: \"))\n",
    "media = soma / 4\n",
    "print(media)"
   ]
  },
  {
   "cell_type": "code",
   "execution_count": 10,
   "id": "678b3fbc-8a63-4835-82bd-59fa9d2bd64a",
   "metadata": {},
   "outputs": [
    {
     "name": "stdin",
     "output_type": "stream",
     "text": [
      "Raio:  3\n"
     ]
    },
    {
     "name": "stdout",
     "output_type": "stream",
     "text": [
      "28.27\n"
     ]
    }
   ],
   "source": [
    "#6\n",
    "r = 3.1415 * float(input(\"Raio: \"))**2\n",
    "print('%.2f'%r)"
   ]
  },
  {
   "cell_type": "code",
   "execution_count": 13,
   "id": "1550c3aa-9527-4e43-9952-753df79712aa",
   "metadata": {},
   "outputs": [
    {
     "name": "stdin",
     "output_type": "stream",
     "text": [
      "Quantos você ganha por hora?  20\n",
      "Quantas horas você trabalhou?  160\n"
     ]
    },
    {
     "name": "stdout",
     "output_type": "stream",
     "text": [
      "Salário a ser recebido -> 3200.0\n"
     ]
    }
   ],
   "source": [
    "#7\n",
    "per_hour  = float(input(\"Quantos você ganha por hora? \"))\n",
    "num_hours = int(input(\"Quantas horas você trabalhou? \"))\n",
    "print(\"Salário a ser recebido -> \" + str(per_hour * num_hours))"
   ]
  },
  {
   "cell_type": "code",
   "execution_count": 2,
   "id": "ab5e76d2-c88f-4756-834b-2acde4abf3ac",
   "metadata": {},
   "outputs": [
    {
     "name": "stdin",
     "output_type": "stream",
     "text": [
      "Fahrenheit:  98.6\n"
     ]
    },
    {
     "name": "stdout",
     "output_type": "stream",
     "text": [
      "Temperatura em Celsius -> 37.00\n"
     ]
    }
   ],
   "source": [
    "#8\n",
    "f = float(input(\"Fahrenheit: \"))\n",
    "c = float((f - 32) / 1.8)\n",
    "print(\"Temperatura em Celsius -> %.2f\" % c)"
   ]
  },
  {
   "cell_type": "code",
   "execution_count": 4,
   "id": "2eabba45-e365-4767-81dc-79117bb15fd8",
   "metadata": {},
   "outputs": [
    {
     "name": "stdin",
     "output_type": "stream",
     "text": [
      "Dia:  02\n",
      "Mês:  02\n",
      "Ano:  2002\n"
     ]
    },
    {
     "name": "stdout",
     "output_type": "stream",
     "text": [
      "02/02/2002\n"
     ]
    }
   ],
   "source": [
    "#9\n",
    "day   = int(input(\"Dia: \"))\n",
    "month = int(input(\"Mês: \"))\n",
    "year  = int(input(\"Ano: \"))\n",
    "print('%02d/'%day + '%02d/'%month + '%04d'%year)"
   ]
  },
  {
   "cell_type": "code",
   "execution_count": 5,
   "id": "48922c11-69ab-42e8-8dd7-e9679b90a02f",
   "metadata": {},
   "outputs": [
    {
     "name": "stdin",
     "output_type": "stream",
     "text": [
      "n1:  1\n",
      "n2:  2\n",
      "n3:  3\n"
     ]
    },
    {
     "name": "stdout",
     "output_type": "stream",
     "text": [
      "a) 2.0\n",
      "b) 6.0\n",
      "c) 27.0\n"
     ]
    }
   ],
   "source": [
    "#10\n",
    "n1 = int(input('n1: '))\n",
    "n2 = int(input('n2: '))\n",
    "n3 = float(input('n3: '))\n",
    "print('a) ' + str((n1 * 2) * (n2 / 2)))\n",
    "print('b) ' + str((n1 * 3) + n3))\n",
    "print('c) ' + str(n3**3))"
   ]
  },
  {
   "cell_type": "code",
   "execution_count": 9,
   "id": "5021255a-5893-4a8a-aa87-3d5d0385c020",
   "metadata": {},
   "outputs": [
    {
     "name": "stdin",
     "output_type": "stream",
     "text": [
      "Peso (kg):  64\n",
      "Altura (cm):  181\n"
     ]
    },
    {
     "name": "stdout",
     "output_type": "stream",
     "text": [
      "IMC: 19.54\n"
     ]
    }
   ],
   "source": [
    "#11\n",
    "w   = float(input('Peso (kg): '))\n",
    "h   = float(input('Altura (cm): ')) / 100\n",
    "bmi = w / h**2\n",
    "print('IMC: %.2f' % bmi)"
   ]
  },
  {
   "cell_type": "code",
   "execution_count": 12,
   "id": "26848b75-80d3-493d-9738-f3c73fb47c67",
   "metadata": {},
   "outputs": [
    {
     "name": "stdin",
     "output_type": "stream",
     "text": [
      "Valor monetário:  10\n"
     ]
    },
    {
     "name": "stdout",
     "output_type": "stream",
     "text": [
      "O novo valor é 11.50\n"
     ]
    }
   ],
   "source": [
    "#12\n",
    "cash = float(input('Valor monetário: '))\n",
    "print('O novo valor é %.2f' % ( cash + cash * (15 / 100)))"
   ]
  },
  {
   "cell_type": "code",
   "execution_count": 13,
   "id": "8a1f095a-f92e-4f2b-9d9e-7cf7668c8f56",
   "metadata": {},
   "outputs": [
    {
     "name": "stdin",
     "output_type": "stream",
     "text": [
      "Valor monetário:  10\n"
     ]
    },
    {
     "name": "stdout",
     "output_type": "stream",
     "text": [
      "O novo valor é 8.50\n"
     ]
    }
   ],
   "source": [
    "#13\n",
    "cash = float(input('Valor monetário: '))\n",
    "print('O novo valor é %.2f' % ( cash - cash * (15 / 100)))"
   ]
  },
  {
   "cell_type": "code",
   "execution_count": 19,
   "id": "b67c345b-5ab0-4918-818d-7b4af613085b",
   "metadata": {},
   "outputs": [
    {
     "name": "stdin",
     "output_type": "stream",
     "text": [
      "Velocidade inicial (m/s):  70\n",
      "Posição inicial (m):  0\n",
      "Momento (s):  7\n"
     ]
    },
    {
     "name": "stdout",
     "output_type": "stream",
     "text": [
      "245.0\n"
     ]
    }
   ],
   "source": [
    "# Desafio 1\n",
    "v1   = float(input('Velocidade inicial (m/s): '))\n",
    "pos1 = float(input('Posição inicial (m): '))\n",
    "time = float(input('Momento (s): '))\n",
    "curr_pos = pos1 + v1*time + (-10*time**2/2)\n",
    "print(curr_pos)"
   ]
  },
  {
   "cell_type": "code",
   "execution_count": 17,
   "id": "1b35f9b3-64af-40be-ba0b-cd41f2ffdf23",
   "metadata": {},
   "outputs": [
    {
     "name": "stdout",
     "output_type": "stream",
     "text": [
      "10/10/2021\n",
      "16:06:51\n"
     ]
    }
   ],
   "source": [
    "# Desafio 2\n",
    "from datetime import datetime\n",
    "dt = datetime.now()\n",
    "print(f'{dt.day}/{dt.month}/{dt.year}')\n",
    "print('%02d'%dt.hour + ':%02d'%dt.minute + ':%02d'%dt.second)"
   ]
  }
 ],
 "metadata": {
  "kernelspec": {
   "display_name": "Python 3 (ipykernel)",
   "language": "python",
   "name": "python3"
  },
  "language_info": {
   "codemirror_mode": {
    "name": "ipython",
    "version": 3
   },
   "file_extension": ".py",
   "mimetype": "text/x-python",
   "name": "python",
   "nbconvert_exporter": "python",
   "pygments_lexer": "ipython3",
   "version": "3.9.7"
  }
 },
 "nbformat": 4,
 "nbformat_minor": 5
}
